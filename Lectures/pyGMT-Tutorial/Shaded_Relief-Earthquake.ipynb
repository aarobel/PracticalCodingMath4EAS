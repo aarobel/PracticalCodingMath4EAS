{
 "cells": [
  {
   "cell_type": "markdown",
   "metadata": {},
   "source": [
    "## Complicated shaded-relief plot with overlaid data\n",
    "Created and tested by A. Newman on 9/23/2022\n",
    "\n",
    "A bit of caution!  Once you learn and are capable of doing these plots, there is a tendancy to overuse it.  Remember, only show on a plot what is necessary to convey ideas.  Other information is noise that detracts from the work."
   ]
  },
  {
   "cell_type": "code",
   "execution_count": 1,
   "metadata": {},
   "outputs": [
    {
     "name": "stderr",
     "output_type": "stream",
     "text": [
      "pygmt-session [WARNING]: Remote dataset given to a data processing module but no registration was specified - default to gridline registration (if available)\n",
      "gmtwhich [NOTICE]: Remote data courtesy of GMT data server oceania [http://oceania.generic-mapping-tools.org]\n",
      "gmtwhich [NOTICE]: SRTM15 Earth Relief at 30x30 arc minutes reduced by Gaussian Cartesian filtering (55.6 km fullwidth) [Tozer et al., 2019].\n",
      "gmtwhich [NOTICE]:   -> Download grid file [395K]: earth_relief_30m_g.grd\n",
      "grdimage [ERROR]: Cannot find file (GaTech)/Teaching/MathCodeReview/pyGMT-Tutorial/mapdata/map_gray.cpt\n"
     ]
    },
    {
     "ename": "GMTCLibError",
     "evalue": "Module 'grdimage' failed with status code 72:\ngrdimage [ERROR]: Cannot find file (GaTech)/Teaching/MathCodeReview/pyGMT-Tutorial/mapdata/map_gray.cpt",
     "output_type": "error",
     "traceback": [
      "\u001b[0;31m---------------------------------------------------------------------------\u001b[0m",
      "\u001b[0;31mGMTCLibError\u001b[0m                              Traceback (most recent call last)",
      "\u001b[0;32m/var/folders/w9/3vjhn6jd0rg3zj2t75bq8wgm0000gn/T/ipykernel_20880/1918539995.py\u001b[0m in \u001b[0;36m<module>\u001b[0;34m\u001b[0m\n\u001b[1;32m     18\u001b[0m \u001b[0;32mwith\u001b[0m \u001b[0mpygmt\u001b[0m\u001b[0;34m.\u001b[0m\u001b[0mconfig\u001b[0m\u001b[0;34m(\u001b[0m\u001b[0mMAP_FRAME_PEN\u001b[0m\u001b[0;34m=\u001b[0m\u001b[0;34m\"0.3p,black\"\u001b[0m\u001b[0;34m)\u001b[0m\u001b[0;34m:\u001b[0m\u001b[0;34m\u001b[0m\u001b[0;34m\u001b[0m\u001b[0m\n\u001b[1;32m     19\u001b[0m     fig1.grdimage(grid=grid, cmap=mapcpt, shading=True, \n\u001b[0;32m---> 20\u001b[0;31m                   projection=proj,transparency=50)\n\u001b[0m\u001b[1;32m     21\u001b[0m     fig1.coast(shorelines=\"0.2p,50\", area_thresh=100000, \n\u001b[1;32m     22\u001b[0m                frame=\"afg30\", projection=proj)\n",
      "\u001b[0;32m/usr/local/anaconda3/envs/pygmt/lib/python3.7/site-packages/pygmt/helpers/decorators.py\u001b[0m in \u001b[0;36mnew_module\u001b[0;34m(*args, **kwargs)\u001b[0m\n\u001b[1;32m    268\u001b[0m                 \u001b[0;32mif\u001b[0m \u001b[0malias\u001b[0m \u001b[0;32min\u001b[0m \u001b[0mkwargs\u001b[0m\u001b[0;34m:\u001b[0m\u001b[0;34m\u001b[0m\u001b[0;34m\u001b[0m\u001b[0m\n\u001b[1;32m    269\u001b[0m                     \u001b[0mkwargs\u001b[0m\u001b[0;34m[\u001b[0m\u001b[0marg\u001b[0m\u001b[0;34m]\u001b[0m \u001b[0;34m=\u001b[0m \u001b[0mkwargs\u001b[0m\u001b[0;34m.\u001b[0m\u001b[0mpop\u001b[0m\u001b[0;34m(\u001b[0m\u001b[0malias\u001b[0m\u001b[0;34m)\u001b[0m\u001b[0;34m\u001b[0m\u001b[0;34m\u001b[0m\u001b[0m\n\u001b[0;32m--> 270\u001b[0;31m             \u001b[0;32mreturn\u001b[0m \u001b[0mmodule_func\u001b[0m\u001b[0;34m(\u001b[0m\u001b[0;34m*\u001b[0m\u001b[0margs\u001b[0m\u001b[0;34m,\u001b[0m \u001b[0;34m**\u001b[0m\u001b[0mkwargs\u001b[0m\u001b[0;34m)\u001b[0m\u001b[0;34m\u001b[0m\u001b[0;34m\u001b[0m\u001b[0m\n\u001b[0m\u001b[1;32m    271\u001b[0m \u001b[0;34m\u001b[0m\u001b[0m\n\u001b[1;32m    272\u001b[0m         \u001b[0mnew_module\u001b[0m\u001b[0;34m.\u001b[0m\u001b[0maliases\u001b[0m \u001b[0;34m=\u001b[0m \u001b[0maliases\u001b[0m\u001b[0;34m\u001b[0m\u001b[0;34m\u001b[0m\u001b[0m\n",
      "\u001b[0;32m/usr/local/anaconda3/envs/pygmt/lib/python3.7/site-packages/pygmt/helpers/decorators.py\u001b[0m in \u001b[0;36mnew_module\u001b[0;34m(*args, **kwargs)\u001b[0m\n\u001b[1;32m    409\u001b[0m                         \u001b[0mkwargs\u001b[0m\u001b[0;34m[\u001b[0m\u001b[0marg\u001b[0m\u001b[0;34m]\u001b[0m \u001b[0;34m=\u001b[0m \u001b[0mseparators\u001b[0m\u001b[0;34m[\u001b[0m\u001b[0mfmt\u001b[0m\u001b[0;34m]\u001b[0m\u001b[0;34m.\u001b[0m\u001b[0mjoin\u001b[0m\u001b[0;34m(\u001b[0m\u001b[0;34mf\"{item}\"\u001b[0m \u001b[0;32mfor\u001b[0m \u001b[0mitem\u001b[0m \u001b[0;32min\u001b[0m \u001b[0mvalue\u001b[0m\u001b[0;34m)\u001b[0m\u001b[0;34m\u001b[0m\u001b[0;34m\u001b[0m\u001b[0m\n\u001b[1;32m    410\u001b[0m             \u001b[0;31m# Execute the original function and return its output\u001b[0m\u001b[0;34m\u001b[0m\u001b[0;34m\u001b[0m\u001b[0;34m\u001b[0m\u001b[0m\n\u001b[0;32m--> 411\u001b[0;31m             \u001b[0;32mreturn\u001b[0m \u001b[0mmodule_func\u001b[0m\u001b[0;34m(\u001b[0m\u001b[0;34m*\u001b[0m\u001b[0margs\u001b[0m\u001b[0;34m,\u001b[0m \u001b[0;34m**\u001b[0m\u001b[0mkwargs\u001b[0m\u001b[0;34m)\u001b[0m\u001b[0;34m\u001b[0m\u001b[0;34m\u001b[0m\u001b[0m\n\u001b[0m\u001b[1;32m    412\u001b[0m \u001b[0;34m\u001b[0m\u001b[0m\n\u001b[1;32m    413\u001b[0m         \u001b[0;32mreturn\u001b[0m \u001b[0mnew_module\u001b[0m\u001b[0;34m\u001b[0m\u001b[0;34m\u001b[0m\u001b[0m\n",
      "\u001b[0;32m/usr/local/anaconda3/envs/pygmt/lib/python3.7/site-packages/pygmt/base_plotting.py\u001b[0m in \u001b[0;36mgrdimage\u001b[0;34m(self, grid, **kwargs)\u001b[0m\n\u001b[1;32m    483\u001b[0m             \u001b[0;32mwith\u001b[0m \u001b[0mfile_context\u001b[0m \u001b[0;32mas\u001b[0m \u001b[0mfname\u001b[0m\u001b[0;34m:\u001b[0m\u001b[0;34m\u001b[0m\u001b[0;34m\u001b[0m\u001b[0m\n\u001b[1;32m    484\u001b[0m                 \u001b[0marg_str\u001b[0m \u001b[0;34m=\u001b[0m \u001b[0;34m\" \"\u001b[0m\u001b[0;34m.\u001b[0m\u001b[0mjoin\u001b[0m\u001b[0;34m(\u001b[0m\u001b[0;34m[\u001b[0m\u001b[0mfname\u001b[0m\u001b[0;34m,\u001b[0m \u001b[0mbuild_arg_string\u001b[0m\u001b[0;34m(\u001b[0m\u001b[0mkwargs\u001b[0m\u001b[0;34m)\u001b[0m\u001b[0;34m]\u001b[0m\u001b[0;34m)\u001b[0m\u001b[0;34m\u001b[0m\u001b[0;34m\u001b[0m\u001b[0m\n\u001b[0;32m--> 485\u001b[0;31m                 \u001b[0mlib\u001b[0m\u001b[0;34m.\u001b[0m\u001b[0mcall_module\u001b[0m\u001b[0;34m(\u001b[0m\u001b[0;34m\"grdimage\"\u001b[0m\u001b[0;34m,\u001b[0m \u001b[0marg_str\u001b[0m\u001b[0;34m)\u001b[0m\u001b[0;34m\u001b[0m\u001b[0;34m\u001b[0m\u001b[0m\n\u001b[0m\u001b[1;32m    486\u001b[0m \u001b[0;34m\u001b[0m\u001b[0m\n\u001b[1;32m    487\u001b[0m     \u001b[0;34m@\u001b[0m\u001b[0mfmt_docstring\u001b[0m\u001b[0;34m\u001b[0m\u001b[0;34m\u001b[0m\u001b[0m\n",
      "\u001b[0;32m/usr/local/anaconda3/envs/pygmt/lib/python3.7/site-packages/pygmt/clib/session.py\u001b[0m in \u001b[0;36mcall_module\u001b[0;34m(self, module, args)\u001b[0m\n\u001b[1;32m    506\u001b[0m             raise GMTCLibError(\n\u001b[1;32m    507\u001b[0m                 \"Module '{}' failed with status code {}:\\n{}\".format(\n\u001b[0;32m--> 508\u001b[0;31m                     \u001b[0mmodule\u001b[0m\u001b[0;34m,\u001b[0m \u001b[0mstatus\u001b[0m\u001b[0;34m,\u001b[0m \u001b[0mself\u001b[0m\u001b[0;34m.\u001b[0m\u001b[0m_error_message\u001b[0m\u001b[0;34m\u001b[0m\u001b[0;34m\u001b[0m\u001b[0m\n\u001b[0m\u001b[1;32m    509\u001b[0m                 )\n\u001b[1;32m    510\u001b[0m             )\n",
      "\u001b[0;31mGMTCLibError\u001b[0m: Module 'grdimage' failed with status code 72:\ngrdimage [ERROR]: Cannot find file (GaTech)/Teaching/MathCodeReview/pyGMT-Tutorial/mapdata/map_gray.cpt"
     ]
    }
   ],
   "source": [
    "# plot a specific earthquake on a global map with\n",
    "#    plate boundaries, and prior earthquakes (depth-colored)\n",
    "import pygmt\n",
    "import os\n",
    "\n",
    "fig1=pygmt.Figure()\n",
    "eloc=[-85,10.5]\n",
    "emech=dict(strike=308, dip=17, rake=102, magnitude=7.62)\n",
    "libdir=os.path.join(os.getcwd(),'mapdata')\n",
    "eventname='Nicoya 2012'\n",
    "\n",
    "# make basemap    \n",
    "scale=15\n",
    "proj=\"G\"+str(eloc[0])+\"/\"+str(eloc[1])+\"/\"+str(scale)+\"c\" # define projection up front\n",
    "grid = pygmt.datasets.load_earth_relief(resolution=\"30m\")\n",
    "#    dgrid = gmt.grdgradient(grid=grid, radiance=[45, 80])\n",
    "mapcpt=os.path.join(libdir,'map_gray.cpt') # use my favorite light shade\n",
    "with pygmt.config(MAP_FRAME_PEN=\"0.3p,black\"):\n",
    "    fig1.grdimage(grid=grid, cmap=mapcpt, shading=True, \n",
    "                  projection=proj,transparency=50)\n",
    "    fig1.coast(shorelines=\"0.2p,50\", area_thresh=100000, \n",
    "               frame=\"afg30\", projection=proj)\n",
    "\n",
    "# background earthquakes\n",
    "eqcpt=os.path.join(libdir,'eq_color.cpt') # my color scale for EQs\n",
    "eqs=os.path.join(libdir,'EQM4plus.data.sorted')\n",
    "fig1.plot(data=eqs, style='c', cmap=eqcpt, \n",
    "          pen='0.2,100', transparency=20)\n",
    "fig1.colorbar(cmap=eqcpt,position=\"x15.5/0.2+w7c/0.2c+v\")\n",
    "\n",
    "# Plates\n",
    "plates=os.path.join(libdir,'PB2002_plates.txt') # global plate DB\n",
    "fig1.plot(data=plates, pen='0.5,0', transparency=10)\n",
    "\n",
    "# plot event focal mechanism location in center\n",
    "fig1.meca(emech, scale=\"0.6c\", \n",
    "          longitude=eloc[0], latitude=eloc[1],depth=0,\n",
    "          transparency=40, G='red',\n",
    "         )\n",
    "\n",
    "\n",
    "# add text (creating a new projection normalized from 0-1)\n",
    "with pygmt.config(MAP_FRAME_PEN=\"0,white\"):\n",
    "    proj2=\"X\"+str(scale)+\"c\"\n",
    "    fig1.basemap(region=[0,1,0,1], projection=proj2,frame='wesn')\n",
    "    fig1.text(text='EQ Depth [km]',x=0.99,y=0.03, \n",
    "              justify=\"LB\", font=\"12p,Helvetica,black\", angle=90)\n",
    "    fig1.text(text='Event: '+ eventname,x=0,y=0.97, \n",
    "              justify=\"LM\", font=\"14p,Helvetica,black\", angle=0)\n",
    " \n",
    "fig1.show()\n",
    "#fig1.savefig('StationMap_'+eventname+'.png',\n",
    "#             anti_alias=True, dpi=300,show=True)\n"
   ]
  },
  {
   "cell_type": "code",
   "execution_count": null,
   "metadata": {},
   "outputs": [],
   "source": []
  }
 ],
 "metadata": {
  "kernelspec": {
   "display_name": "Python 3 (ipykernel)",
   "language": "python",
   "name": "python3"
  },
  "language_info": {
   "codemirror_mode": {
    "name": "ipython",
    "version": 3
   },
   "file_extension": ".py",
   "mimetype": "text/x-python",
   "name": "python",
   "nbconvert_exporter": "python",
   "pygments_lexer": "ipython3",
   "version": "3.7.12"
  }
 },
 "nbformat": 4,
 "nbformat_minor": 4
}
