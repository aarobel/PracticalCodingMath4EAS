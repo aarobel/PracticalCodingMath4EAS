{
 "cells": [
  {
   "cell_type": "code",
   "execution_count": 1,
   "id": "4c9779cf",
   "metadata": {},
   "outputs": [],
   "source": [
    "import numpy as np\n",
    "import pandas as pd"
   ]
  },
  {
   "cell_type": "code",
   "execution_count": 2,
   "id": "ea3a3018",
   "metadata": {},
   "outputs": [],
   "source": [
    "## for plotting gaussian over histogram: \n",
    "#get mean and sd, calculate gaussian curve for these param for linear x space and plot over the same axes as the histogram"
   ]
  },
  {
   "cell_type": "code",
   "execution_count": 3,
   "id": "0f09dfb0",
   "metadata": {},
   "outputs": [],
   "source": [
    "def getSk(k):\n",
    "    Sk = 0\n",
    "    for n in range(k):\n",
    "        Sk = Sk + ((-1)**n)/((2*n + 1)**7)\n",
    "    return Sk"
   ]
  },
  {
   "cell_type": "code",
   "execution_count": 4,
   "id": "b27342a2",
   "metadata": {},
   "outputs": [
    {
     "data": {
      "text/plain": [
       "0.9995545075249875"
      ]
     },
     "execution_count": 4,
     "metadata": {},
     "output_type": "execute_result"
    }
   ],
   "source": [
    "getSk(10)"
   ]
  },
  {
   "cell_type": "code",
   "execution_count": 5,
   "id": "55c57a34",
   "metadata": {},
   "outputs": [
    {
     "data": {
      "text/plain": [
       "0.99955450789054"
      ]
     },
     "execution_count": 5,
     "metadata": {},
     "output_type": "execute_result"
    }
   ],
   "source": [
    "getSk(100)"
   ]
  },
  {
   "cell_type": "code",
   "execution_count": 6,
   "id": "fadbf8aa",
   "metadata": {},
   "outputs": [
    {
     "data": {
      "text/plain": [
       "0.9995545078905401"
      ]
     },
     "execution_count": 6,
     "metadata": {},
     "output_type": "execute_result"
    }
   ],
   "source": [
    "getSk(1000)"
   ]
  },
  {
   "cell_type": "code",
   "execution_count": 7,
   "id": "dd0b6b82",
   "metadata": {},
   "outputs": [],
   "source": [
    "def vecSk(k):\n",
    "    n = np.arange(0, k+1, 1)\n",
    "    Sk = sum(((-1)**n)/((2*n + 1)**7))\n",
    "    return Sk"
   ]
  },
  {
   "cell_type": "code",
   "execution_count": 8,
   "id": "fcaee365",
   "metadata": {},
   "outputs": [
    {
     "data": {
      "text/plain": [
       "0.9995545080802073"
      ]
     },
     "execution_count": 8,
     "metadata": {},
     "output_type": "execute_result"
    }
   ],
   "source": [
    "vecSk(10)"
   ]
  },
  {
   "cell_type": "code",
   "execution_count": 9,
   "id": "11316dc9",
   "metadata": {},
   "outputs": [
    {
     "data": {
      "text/plain": [
       "0.9995545078905401"
      ]
     },
     "execution_count": 9,
     "metadata": {},
     "output_type": "execute_result"
    }
   ],
   "source": [
    "vecSk(100)"
   ]
  },
  {
   "cell_type": "code",
   "execution_count": 10,
   "id": "46427b0e",
   "metadata": {},
   "outputs": [
    {
     "data": {
      "text/plain": [
       "0.9995545078905399"
      ]
     },
     "execution_count": 10,
     "metadata": {},
     "output_type": "execute_result"
    }
   ],
   "source": [
    "vecSk(1000)"
   ]
  },
  {
   "cell_type": "code",
   "execution_count": 12,
   "id": "31cc26cc",
   "metadata": {},
   "outputs": [],
   "source": [
    "k = [10, 100, 1000]\n",
    "Sk = [vecSk(10), vecSk(100), vecSk(1000)]\n",
    "\n",
    "np.savetxt(\"/Users/mmamer3/Downloads/drl.csv\", np.column_stack((k, Sk)), fmt='%.8f', delimiter=\",\") "
   ]
  },
  {
   "cell_type": "code",
   "execution_count": 13,
   "id": "dbbf4c72",
   "metadata": {},
   "outputs": [
    {
     "data": {
      "text/plain": [
       "0.9995545078905397"
      ]
     },
     "execution_count": 13,
     "metadata": {},
     "output_type": "execute_result"
    }
   ],
   "source": [
    "(61 * np.pi**7) / 184320"
   ]
  },
  {
   "cell_type": "code",
   "execution_count": 17,
   "id": "f5be0162",
   "metadata": {},
   "outputs": [
    {
     "name": "stdout",
     "output_type": "stream",
     "text": [
      "2\n"
     ]
    }
   ],
   "source": [
    "## MM Comment: The while statement should have a '>' sign instead of a '<' sign. \n",
    "Sinf = (61 * np.pi**7) / 184320\n",
    "Sk = 0\n",
    "n = 0\n",
    "while np.abs(Sk - Sinf) >= 1e-4:\n",
    "    Sk = Sk + ((-1)**n)/((2*n + 1)**7)\n",
    "    n = n+1\n",
    "print(n)"
   ]
  },
  {
   "cell_type": "code",
   "execution_count": 18,
   "id": "737ac3b6",
   "metadata": {},
   "outputs": [
    {
     "data": {
      "text/plain": [
       "0.9995545078905397"
      ]
     },
     "execution_count": 18,
     "metadata": {},
     "output_type": "execute_result"
    }
   ],
   "source": [
    "Sinf"
   ]
  },
  {
   "cell_type": "code",
   "execution_count": 19,
   "id": "de4003ae",
   "metadata": {},
   "outputs": [
    {
     "data": {
      "text/plain": [
       "False"
      ]
     },
     "execution_count": 19,
     "metadata": {},
     "output_type": "execute_result"
    }
   ],
   "source": [
    "Sinf = (61 * np.pi**7) / 184320\n",
    "Sk = 0\n",
    "\n",
    "np.abs(Sk - Sinf) < 1e-4"
   ]
  },
  {
   "cell_type": "code",
   "execution_count": 20,
   "id": "a0d230d6",
   "metadata": {},
   "outputs": [
    {
     "data": {
      "text/plain": [
       "array([-1.,  1.,  1.])"
      ]
     },
     "execution_count": 20,
     "metadata": {},
     "output_type": "execute_result"
    }
   ],
   "source": [
    "A = np.array([[2, 1, -4], [3, -1, 9], [5, 2, 2]])\n",
    "B = np.array([-5, 5, -1])\n",
    "\n",
    "np.linalg.solve(A, B)"
   ]
  },
  {
   "cell_type": "code",
   "execution_count": null,
   "id": "4d95e613",
   "metadata": {},
   "outputs": [],
   "source": []
  }
 ],
 "metadata": {
  "kernelspec": {
   "display_name": "Python 3 (ipykernel)",
   "language": "python",
   "name": "python3"
  },
  "language_info": {
   "codemirror_mode": {
    "name": "ipython",
    "version": 3
   },
   "file_extension": ".py",
   "mimetype": "text/x-python",
   "name": "python",
   "nbconvert_exporter": "python",
   "pygments_lexer": "ipython3",
   "version": "3.10.14"
  }
 },
 "nbformat": 4,
 "nbformat_minor": 5
}
