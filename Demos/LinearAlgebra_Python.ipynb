{
 "cells": [
  {
   "cell_type": "markdown",
   "metadata": {},
   "source": [
    "# Linear Algebra in Python"
   ]
  },
  {
   "cell_type": "markdown",
   "metadata": {},
   "source": [
    "This is a Jupyter notebook that takes you through basic linear algebra in Python."
   ]
  },
  {
   "cell_type": "markdown",
   "metadata": {},
   "source": [
    "## Loading packages"
   ]
  },
  {
   "cell_type": "code",
   "execution_count": 1,
   "metadata": {},
   "outputs": [],
   "source": [
    "import numpy as np\n",
    "import matplotlib.pyplot as plt\n",
    "import scipy\n",
    "import pandas as pd"
   ]
  },
  {
   "cell_type": "markdown",
   "metadata": {},
   "source": [
    "## Vector and their products"
   ]
  },
  {
   "cell_type": "markdown",
   "metadata": {},
   "source": [
    "Lets define some vectors"
   ]
  },
  {
   "cell_type": "code",
   "execution_count": 2,
   "metadata": {},
   "outputs": [],
   "source": [
    "x = [2, 9, 4, 2, -4]\n",
    "y = [8, 5, -4, 1, -2]"
   ]
  },
  {
   "cell_type": "markdown",
   "metadata": {},
   "source": [
    "Inner product of two vector is a scalar"
   ]
  },
  {
   "cell_type": "code",
   "execution_count": 3,
   "metadata": {},
   "outputs": [
    {
     "data": {
      "text/plain": [
       "55"
      ]
     },
     "execution_count": 3,
     "metadata": {},
     "output_type": "execute_result"
    }
   ],
   "source": [
    "np.inner(x,y)"
   ]
  },
  {
   "cell_type": "markdown",
   "metadata": {},
   "source": [
    "Cross product"
   ]
  },
  {
   "cell_type": "code",
   "execution_count": 6,
   "metadata": {},
   "outputs": [
    {
     "data": {
      "text/plain": [
       "array([-56,  40, -62])"
      ]
     },
     "execution_count": 6,
     "metadata": {},
     "output_type": "execute_result"
    }
   ],
   "source": [
    "np.cross(x[0:3],y[0:3])"
   ]
  },
  {
   "cell_type": "code",
   "execution_count": 7,
   "metadata": {},
   "outputs": [
    {
     "data": {
      "text/plain": [
       "array([[ 16,  10,  -8,   2,  -4],\n",
       "       [ 72,  45, -36,   9, -18],\n",
       "       [ 32,  20, -16,   4,  -8],\n",
       "       [ 16,  10,  -8,   2,  -4],\n",
       "       [-32, -20,  16,  -4,   8]])"
      ]
     },
     "execution_count": 7,
     "metadata": {},
     "output_type": "execute_result"
    }
   ],
   "source": [
    "np.outer(x,y)"
   ]
  },
  {
   "cell_type": "markdown",
   "metadata": {},
   "source": [
    "## Simple Statistics"
   ]
  },
  {
   "cell_type": "markdown",
   "metadata": {},
   "source": [
    "Anomalies from the mean"
   ]
  },
  {
   "cell_type": "code",
   "execution_count": 8,
   "metadata": {},
   "outputs": [
    {
     "data": {
      "text/plain": [
       "array([-0.6,  6.4,  1.4, -0.6, -6.6])"
      ]
     },
     "execution_count": 8,
     "metadata": {},
     "output_type": "execute_result"
    }
   ],
   "source": [
    "xanom = x - np.mean(x)\n",
    "xanom"
   ]
  },
  {
   "cell_type": "markdown",
   "metadata": {},
   "source": [
    "Variance of x"
   ]
  },
  {
   "cell_type": "code",
   "execution_count": 13,
   "metadata": {},
   "outputs": [
    {
     "data": {
      "text/plain": [
       "21.8"
      ]
     },
     "execution_count": 13,
     "metadata": {},
     "output_type": "execute_result"
    }
   ],
   "source": [
    "np.inner(xanom,xanom) / (len(x)-1)"
   ]
  },
  {
   "cell_type": "markdown",
   "metadata": {},
   "source": [
    "Calculated another way, but with one important difference to note: default python definition of stdev as  “population standard deviation” where numerator (degrees of freedom) is N, not N-1, which corresponds to a sample standard deviation"
   ]
  },
  {
   "cell_type": "code",
   "execution_count": 14,
   "metadata": {},
   "outputs": [
    {
     "data": {
      "text/plain": [
       "21.8"
      ]
     },
     "execution_count": 14,
     "metadata": {},
     "output_type": "execute_result"
    }
   ],
   "source": [
    "np.std(x,ddof=1)**2"
   ]
  },
  {
   "cell_type": "markdown",
   "metadata": {},
   "source": [
    "Covariance can be calculated in a similar way"
   ]
  },
  {
   "cell_type": "code",
   "execution_count": 15,
   "metadata": {},
   "outputs": [
    {
     "data": {
      "text/plain": [
       "8.55"
      ]
     },
     "execution_count": 15,
     "metadata": {},
     "output_type": "execute_result"
    }
   ],
   "source": [
    "yanom = y - np.mean(y)\n",
    "np.inner(xanom,yanom) / (len(x)-1)"
   ]
  },
  {
   "cell_type": "markdown",
   "metadata": {},
   "source": [
    "## Matrix algebra"
   ]
  },
  {
   "cell_type": "markdown",
   "metadata": {},
   "source": [
    "Solving various version of the Ax=b problem which solves a linear system of equations"
   ]
  },
  {
   "cell_type": "code",
   "execution_count": 16,
   "metadata": {},
   "outputs": [],
   "source": [
    "A = np.array([[1,-1],[1,1]])\n",
    "b = np.array([0,2]).T"
   ]
  },
  {
   "cell_type": "markdown",
   "metadata": {},
   "source": [
    "Using inverse to calculate"
   ]
  },
  {
   "cell_type": "code",
   "execution_count": 17,
   "metadata": {},
   "outputs": [
    {
     "data": {
      "text/plain": [
       "array([1., 1.])"
      ]
     },
     "execution_count": 17,
     "metadata": {},
     "output_type": "execute_result"
    }
   ],
   "source": [
    "np.matmul(np.linalg.inv(A),b)"
   ]
  },
  {
   "cell_type": "markdown",
   "metadata": {},
   "source": [
    "Now for a least-squares problem"
   ]
  },
  {
   "cell_type": "code",
   "execution_count": 18,
   "metadata": {},
   "outputs": [],
   "source": [
    "A = np.array([[1,-3,4,5,9],[2,6,-3,4,8],[-1,0,-8,3,5]])\n",
    "b = np.array([3,5,2]).T"
   ]
  },
  {
   "cell_type": "code",
   "execution_count": 19,
   "metadata": {},
   "outputs": [
    {
     "data": {
      "text/plain": [
       "array([ 0.1091305 ,  0.26073263, -0.00331368,  0.15598932,  0.32293062])"
      ]
     },
     "execution_count": 19,
     "metadata": {},
     "output_type": "execute_result"
    }
   ],
   "source": [
    "np.matmul(np.linalg.pinv(A),b)"
   ]
  },
  {
   "cell_type": "markdown",
   "metadata": {},
   "source": [
    "## Calculating a linear regression with real data"
   ]
  },
  {
   "cell_type": "markdown",
   "metadata": {},
   "source": [
    "Load in and plot Atlanta monthly mean temperature data using pandas and matplotlib"
   ]
  },
  {
   "cell_type": "code",
   "execution_count": 21,
   "metadata": {},
   "outputs": [
    {
     "data": {
      "text/html": [
       "<div>\n",
       "<style scoped>\n",
       "    .dataframe tbody tr th:only-of-type {\n",
       "        vertical-align: middle;\n",
       "    }\n",
       "\n",
       "    .dataframe tbody tr th {\n",
       "        vertical-align: top;\n",
       "    }\n",
       "\n",
       "    .dataframe thead th {\n",
       "        text-align: right;\n",
       "    }\n",
       "</style>\n",
       "<table border=\"1\" class=\"dataframe\">\n",
       "  <thead>\n",
       "    <tr style=\"text-align: right;\">\n",
       "      <th></th>\n",
       "      <th>Year</th>\n",
       "      <th>JAN</th>\n",
       "      <th>FEB</th>\n",
       "      <th>MAR</th>\n",
       "      <th>APR</th>\n",
       "      <th>MAY</th>\n",
       "      <th>JUN</th>\n",
       "      <th>JUL</th>\n",
       "      <th>AUG</th>\n",
       "      <th>SEP</th>\n",
       "      <th>OCT</th>\n",
       "      <th>NOV</th>\n",
       "      <th>DEC</th>\n",
       "    </tr>\n",
       "  </thead>\n",
       "  <tbody>\n",
       "    <tr>\n",
       "      <th>0</th>\n",
       "      <td>1879</td>\n",
       "      <td>44.3</td>\n",
       "      <td>43.7</td>\n",
       "      <td>57.6</td>\n",
       "      <td>58.9</td>\n",
       "      <td>69.8</td>\n",
       "      <td>74.9</td>\n",
       "      <td>79.6</td>\n",
       "      <td>73.9</td>\n",
       "      <td>68.7</td>\n",
       "      <td>64.3</td>\n",
       "      <td>53.9</td>\n",
       "      <td>51.5</td>\n",
       "    </tr>\n",
       "    <tr>\n",
       "      <th>1</th>\n",
       "      <td>1880</td>\n",
       "      <td>54.3</td>\n",
       "      <td>51.4</td>\n",
       "      <td>55.5</td>\n",
       "      <td>63.4</td>\n",
       "      <td>71.0</td>\n",
       "      <td>76.5</td>\n",
       "      <td>79.2</td>\n",
       "      <td>76.8</td>\n",
       "      <td>69.4</td>\n",
       "      <td>60.8</td>\n",
       "      <td>47.2</td>\n",
       "      <td>42.1</td>\n",
       "    </tr>\n",
       "    <tr>\n",
       "      <th>2</th>\n",
       "      <td>1881</td>\n",
       "      <td>40.1</td>\n",
       "      <td>46.6</td>\n",
       "      <td>49.1</td>\n",
       "      <td>59.1</td>\n",
       "      <td>70.8</td>\n",
       "      <td>77.8</td>\n",
       "      <td>81.1</td>\n",
       "      <td>78.8</td>\n",
       "      <td>75.5</td>\n",
       "      <td>67.2</td>\n",
       "      <td>52.6</td>\n",
       "      <td>49.6</td>\n",
       "    </tr>\n",
       "    <tr>\n",
       "      <th>3</th>\n",
       "      <td>1882</td>\n",
       "      <td>48.8</td>\n",
       "      <td>52.4</td>\n",
       "      <td>57.4</td>\n",
       "      <td>64.8</td>\n",
       "      <td>66.1</td>\n",
       "      <td>76.6</td>\n",
       "      <td>75.9</td>\n",
       "      <td>75.8</td>\n",
       "      <td>71.7</td>\n",
       "      <td>65.8</td>\n",
       "      <td>51.1</td>\n",
       "      <td>41.4</td>\n",
       "    </tr>\n",
       "    <tr>\n",
       "      <th>4</th>\n",
       "      <td>1883</td>\n",
       "      <td>43.0</td>\n",
       "      <td>50.2</td>\n",
       "      <td>50.2</td>\n",
       "      <td>61.6</td>\n",
       "      <td>67.4</td>\n",
       "      <td>76.4</td>\n",
       "      <td>80.1</td>\n",
       "      <td>76.2</td>\n",
       "      <td>71.3</td>\n",
       "      <td>66.0</td>\n",
       "      <td>53.7</td>\n",
       "      <td>48.0</td>\n",
       "    </tr>\n",
       "    <tr>\n",
       "      <th>...</th>\n",
       "      <td>...</td>\n",
       "      <td>...</td>\n",
       "      <td>...</td>\n",
       "      <td>...</td>\n",
       "      <td>...</td>\n",
       "      <td>...</td>\n",
       "      <td>...</td>\n",
       "      <td>...</td>\n",
       "      <td>...</td>\n",
       "      <td>...</td>\n",
       "      <td>...</td>\n",
       "      <td>...</td>\n",
       "      <td>...</td>\n",
       "    </tr>\n",
       "    <tr>\n",
       "      <th>137</th>\n",
       "      <td>2016</td>\n",
       "      <td>42.4</td>\n",
       "      <td>48.5</td>\n",
       "      <td>60.5</td>\n",
       "      <td>64.1</td>\n",
       "      <td>71.1</td>\n",
       "      <td>81.0</td>\n",
       "      <td>83.4</td>\n",
       "      <td>82.7</td>\n",
       "      <td>78.8</td>\n",
       "      <td>69.6</td>\n",
       "      <td>58.9</td>\n",
       "      <td>48.9</td>\n",
       "    </tr>\n",
       "    <tr>\n",
       "      <th>138</th>\n",
       "      <td>2017</td>\n",
       "      <td>52.0</td>\n",
       "      <td>56.1</td>\n",
       "      <td>57.7</td>\n",
       "      <td>67.8</td>\n",
       "      <td>71.1</td>\n",
       "      <td>76.6</td>\n",
       "      <td>81.2</td>\n",
       "      <td>79.2</td>\n",
       "      <td>73.8</td>\n",
       "      <td>65.7</td>\n",
       "      <td>56.2</td>\n",
       "      <td>46.8</td>\n",
       "    </tr>\n",
       "    <tr>\n",
       "      <th>139</th>\n",
       "      <td>2018</td>\n",
       "      <td>40.4</td>\n",
       "      <td>57.3</td>\n",
       "      <td>53.5</td>\n",
       "      <td>59.8</td>\n",
       "      <td>74.8</td>\n",
       "      <td>79.8</td>\n",
       "      <td>80.8</td>\n",
       "      <td>79.7</td>\n",
       "      <td>81.0</td>\n",
       "      <td>67.4</td>\n",
       "      <td>50.3</td>\n",
       "      <td>48.6</td>\n",
       "    </tr>\n",
       "    <tr>\n",
       "      <th>140</th>\n",
       "      <td>2019</td>\n",
       "      <td>45.9</td>\n",
       "      <td>53.8</td>\n",
       "      <td>55.4</td>\n",
       "      <td>65.3</td>\n",
       "      <td>76.4</td>\n",
       "      <td>77.7</td>\n",
       "      <td>82.2</td>\n",
       "      <td>82.5</td>\n",
       "      <td>82.4</td>\n",
       "      <td>68.4</td>\n",
       "      <td>52.5</td>\n",
       "      <td>51.2</td>\n",
       "    </tr>\n",
       "    <tr>\n",
       "      <th>141</th>\n",
       "      <td>2020</td>\n",
       "      <td>49.2</td>\n",
       "      <td>49.9</td>\n",
       "      <td>61.6</td>\n",
       "      <td>61.6</td>\n",
       "      <td>68.9</td>\n",
       "      <td>76.8</td>\n",
       "      <td>82.1</td>\n",
       "      <td>80.9</td>\n",
       "      <td>73.8</td>\n",
       "      <td>67.3</td>\n",
       "      <td>58.9</td>\n",
       "      <td>46.1</td>\n",
       "    </tr>\n",
       "  </tbody>\n",
       "</table>\n",
       "<p>142 rows × 13 columns</p>\n",
       "</div>"
      ],
      "text/plain": [
       "     Year   JAN   FEB   MAR   APR   MAY   JUN   JUL   AUG   SEP   OCT   NOV  \\\n",
       "0    1879  44.3  43.7  57.6  58.9  69.8  74.9  79.6  73.9  68.7  64.3  53.9   \n",
       "1    1880  54.3  51.4  55.5  63.4  71.0  76.5  79.2  76.8  69.4  60.8  47.2   \n",
       "2    1881  40.1  46.6  49.1  59.1  70.8  77.8  81.1  78.8  75.5  67.2  52.6   \n",
       "3    1882  48.8  52.4  57.4  64.8  66.1  76.6  75.9  75.8  71.7  65.8  51.1   \n",
       "4    1883  43.0  50.2  50.2  61.6  67.4  76.4  80.1  76.2  71.3  66.0  53.7   \n",
       "..    ...   ...   ...   ...   ...   ...   ...   ...   ...   ...   ...   ...   \n",
       "137  2016  42.4  48.5  60.5  64.1  71.1  81.0  83.4  82.7  78.8  69.6  58.9   \n",
       "138  2017  52.0  56.1  57.7  67.8  71.1  76.6  81.2  79.2  73.8  65.7  56.2   \n",
       "139  2018  40.4  57.3  53.5  59.8  74.8  79.8  80.8  79.7  81.0  67.4  50.3   \n",
       "140  2019  45.9  53.8  55.4  65.3  76.4  77.7  82.2  82.5  82.4  68.4  52.5   \n",
       "141  2020  49.2  49.9  61.6  61.6  68.9  76.8  82.1  80.9  73.8  67.3  58.9   \n",
       "\n",
       "      DEC  \n",
       "0    51.5  \n",
       "1    42.1  \n",
       "2    49.6  \n",
       "3    41.4  \n",
       "4    48.0  \n",
       "..    ...  \n",
       "137  48.9  \n",
       "138  46.8  \n",
       "139  48.6  \n",
       "140  51.2  \n",
       "141  46.1  \n",
       "\n",
       "[142 rows x 13 columns]"
      ]
     },
     "execution_count": 21,
     "metadata": {},
     "output_type": "execute_result"
    }
   ],
   "source": [
    "df=pd.read_csv(\"ATL_MonMeanTemp_1879_2020.csv\")\n",
    "df"
   ]
  },
  {
   "cell_type": "code",
   "execution_count": 22,
   "metadata": {},
   "outputs": [],
   "source": [
    "atl=df.to_numpy()\n",
    "year = atl[0:,0]\n",
    "augtemp = atl[0:,8]"
   ]
  },
  {
   "cell_type": "code",
   "execution_count": 23,
   "metadata": {},
   "outputs": [
    {
     "data": {
      "image/png": "[encoded data removed]",
      "text/plain": [
       "<Figure size 640x480 with 1 Axes>"
      ]
     },
     "metadata": {},
     "output_type": "display_data"
    }
   ],
   "source": [
    "plt.plot(year,augtemp,'k.')\n",
    "plt.xlabel('year')\n",
    "plt.ylabel('ATL Aug temperature, deg F')\n",
    "plt.show()"
   ]
  },
  {
   "cell_type": "markdown",
   "metadata": {},
   "source": [
    "Setup matrices for linear regression"
   ]
  },
  {
   "cell_type": "code",
   "execution_count": 37,
   "metadata": {},
   "outputs": [
    {
     "data": {
      "text/plain": [
       "array([[-7.43144825e-01,  1.87900000e+03,  1.00000000e+00],\n",
       "       [-8.66025404e-01,  1.88000000e+03,  1.00000000e+00],\n",
       "       [-9.51056516e-01,  1.88100000e+03,  1.00000000e+00],\n",
       "       [-9.94521895e-01,  1.88200000e+03,  1.00000000e+00],\n",
       "       [-9.94521895e-01,  1.88300000e+03,  1.00000000e+00],\n",
       "       [-9.51056516e-01,  1.88400000e+03,  1.00000000e+00],\n",
       "       [-8.66025404e-01,  1.88500000e+03,  1.00000000e+00],\n",
       "       [-7.43144825e-01,  1.88600000e+03,  1.00000000e+00],\n",
       "       [-5.87785252e-01,  1.88700000e+03,  1.00000000e+00],\n",
       "       [-4.06736643e-01,  1.88800000e+03,  1.00000000e+00],\n",
       "       [-2.07911691e-01,  1.88900000e+03,  1.00000000e+00],\n",
       "       [-5.09576865e-14,  1.89000000e+03,  1.00000000e+00],\n",
       "       [ 2.07911691e-01,  1.89100000e+03,  1.00000000e+00],\n",
       "       [ 4.06736643e-01,  1.89200000e+03,  1.00000000e+00],\n",
       "       [ 5.87785252e-01,  1.89300000e+03,  1.00000000e+00],\n",
       "       [ 7.43144825e-01,  1.89400000e+03,  1.00000000e+00],\n",
       "       [ 8.66025404e-01,  1.89500000e+03,  1.00000000e+00],\n",
       "       [ 9.51056516e-01,  1.89600000e+03,  1.00000000e+00],\n",
       "       [ 9.94521895e-01,  1.89700000e+03,  1.00000000e+00],\n",
       "       [ 9.94521895e-01,  1.89800000e+03,  1.00000000e+00],\n",
       "       [ 9.51056516e-01,  1.89900000e+03,  1.00000000e+00],\n",
       "       [ 8.66025404e-01,  1.90000000e+03,  1.00000000e+00],\n",
       "       [ 7.43144825e-01,  1.90100000e+03,  1.00000000e+00],\n",
       "       [ 5.87785252e-01,  1.90200000e+03,  1.00000000e+00],\n",
       "       [ 4.06736643e-01,  1.90300000e+03,  1.00000000e+00],\n",
       "       [ 2.07911691e-01,  1.90400000e+03,  1.00000000e+00],\n",
       "       [ 4.89487331e-15,  1.90500000e+03,  1.00000000e+00],\n",
       "       [-2.07911691e-01,  1.90600000e+03,  1.00000000e+00],\n",
       "       [-4.06736643e-01,  1.90700000e+03,  1.00000000e+00],\n",
       "       [-5.87785252e-01,  1.90800000e+03,  1.00000000e+00],\n",
       "       [-7.43144825e-01,  1.90900000e+03,  1.00000000e+00],\n",
       "       [-8.66025404e-01,  1.91000000e+03,  1.00000000e+00],\n",
       "       [-9.51056516e-01,  1.91100000e+03,  1.00000000e+00],\n",
       "       [-9.94521895e-01,  1.91200000e+03,  1.00000000e+00],\n",
       "       [-9.94521895e-01,  1.91300000e+03,  1.00000000e+00],\n",
       "       [-9.51056516e-01,  1.91400000e+03,  1.00000000e+00],\n",
       "       [-8.66025404e-01,  1.91500000e+03,  1.00000000e+00],\n",
       "       [-7.43144825e-01,  1.91600000e+03,  1.00000000e+00],\n",
       "       [-5.87785252e-01,  1.91700000e+03,  1.00000000e+00],\n",
       "       [-4.06736643e-01,  1.91800000e+03,  1.00000000e+00],\n",
       "       [-2.07911691e-01,  1.91900000e+03,  1.00000000e+00],\n",
       "       [-7.25188979e-14,  1.92000000e+03,  1.00000000e+00],\n",
       "       [ 2.07911691e-01,  1.92100000e+03,  1.00000000e+00],\n",
       "       [ 4.06736643e-01,  1.92200000e+03,  1.00000000e+00],\n",
       "       [ 5.87785252e-01,  1.92300000e+03,  1.00000000e+00],\n",
       "       [ 7.43144825e-01,  1.92400000e+03,  1.00000000e+00],\n",
       "       [ 8.66025404e-01,  1.92500000e+03,  1.00000000e+00],\n",
       "       [ 9.51056516e-01,  1.92600000e+03,  1.00000000e+00],\n",
       "       [ 9.94521895e-01,  1.92700000e+03,  1.00000000e+00],\n",
       "       [ 9.94521895e-01,  1.92800000e+03,  1.00000000e+00],\n",
       "       [ 9.51056516e-01,  1.92900000e+03,  1.00000000e+00],\n",
       "       [ 8.66025404e-01,  1.93000000e+03,  1.00000000e+00],\n",
       "       [ 7.43144825e-01,  1.93100000e+03,  1.00000000e+00],\n",
       "       [ 5.87785252e-01,  1.93200000e+03,  1.00000000e+00],\n",
       "       [ 4.06736643e-01,  1.93300000e+03,  1.00000000e+00],\n",
       "       [ 2.07911691e-01,  1.93400000e+03,  1.00000000e+00],\n",
       "       [ 2.64560847e-14,  1.93500000e+03,  1.00000000e+00],\n",
       "       [-2.07911691e-01,  1.93600000e+03,  1.00000000e+00],\n",
       "       [-4.06736643e-01,  1.93700000e+03,  1.00000000e+00],\n",
       "       [-5.87785252e-01,  1.93800000e+03,  1.00000000e+00],\n",
       "       [-7.43144825e-01,  1.93900000e+03,  1.00000000e+00],\n",
       "       [-8.66025404e-01,  1.94000000e+03,  1.00000000e+00],\n",
       "       [-9.51056516e-01,  1.94100000e+03,  1.00000000e+00],\n",
       "       [-9.94521895e-01,  1.94200000e+03,  1.00000000e+00],\n",
       "       [-9.94521895e-01,  1.94300000e+03,  1.00000000e+00],\n",
       "       [-9.51056516e-01,  1.94400000e+03,  1.00000000e+00],\n",
       "       [-8.66025404e-01,  1.94500000e+03,  1.00000000e+00],\n",
       "       [-7.43144825e-01,  1.94600000e+03,  1.00000000e+00],\n",
       "       [-5.87785252e-01,  1.94700000e+03,  1.00000000e+00],\n",
       "       [-4.06736643e-01,  1.94800000e+03,  1.00000000e+00],\n",
       "       [-2.07911691e-01,  1.94900000e+03,  1.00000000e+00],\n",
       "       [ 1.96067284e-14,  1.95000000e+03,  1.00000000e+00],\n",
       "       [ 2.07911691e-01,  1.95100000e+03,  1.00000000e+00],\n",
       "       [ 4.06736643e-01,  1.95200000e+03,  1.00000000e+00],\n",
       "       [ 5.87785252e-01,  1.95300000e+03,  1.00000000e+00],\n",
       "       [ 7.43144825e-01,  1.95400000e+03,  1.00000000e+00],\n",
       "       [ 8.66025404e-01,  1.95500000e+03,  1.00000000e+00],\n",
       "       [ 9.51056516e-01,  1.95600000e+03,  1.00000000e+00],\n",
       "       [ 9.94521895e-01,  1.95700000e+03,  1.00000000e+00],\n",
       "       [ 9.94521895e-01,  1.95800000e+03,  1.00000000e+00],\n",
       "       [ 9.51056516e-01,  1.95900000e+03,  1.00000000e+00],\n",
       "       [ 8.66025404e-01,  1.96000000e+03,  1.00000000e+00],\n",
       "       [ 7.43144825e-01,  1.96100000e+03,  1.00000000e+00],\n",
       "       [ 5.87785252e-01,  1.96200000e+03,  1.00000000e+00],\n",
       "       [ 4.06736643e-01,  1.96300000e+03,  1.00000000e+00],\n",
       "       [ 2.07911691e-01,  1.96400000e+03,  1.00000000e+00],\n",
       "       [ 4.80172962e-14,  1.96500000e+03,  1.00000000e+00],\n",
       "       [-2.07911691e-01,  1.96600000e+03,  1.00000000e+00],\n",
       "       [-4.06736643e-01,  1.96700000e+03,  1.00000000e+00],\n",
       "       [-5.87785252e-01,  1.96800000e+03,  1.00000000e+00],\n",
       "       [-7.43144825e-01,  1.96900000e+03,  1.00000000e+00],\n",
       "       [-8.66025404e-01,  1.97000000e+03,  1.00000000e+00],\n",
       "       [-9.51056516e-01,  1.97100000e+03,  1.00000000e+00],\n",
       "       [-9.94521895e-01,  1.97200000e+03,  1.00000000e+00],\n",
       "       [-9.94521895e-01,  1.97300000e+03,  1.00000000e+00],\n",
       "       [-9.51056516e-01,  1.97400000e+03,  1.00000000e+00],\n",
       "       [-8.66025404e-01,  1.97500000e+03,  1.00000000e+00],\n",
       "       [-7.43144825e-01,  1.97600000e+03,  1.00000000e+00],\n",
       "       [-5.87785252e-01,  1.97700000e+03,  1.00000000e+00],\n",
       "       [-4.06736643e-01,  1.97800000e+03,  1.00000000e+00],\n",
       "       [-2.07911691e-01,  1.97900000e+03,  1.00000000e+00],\n",
       "       [-1.95448303e-15,  1.98000000e+03,  1.00000000e+00],\n",
       "       [ 2.07911691e-01,  1.98100000e+03,  1.00000000e+00],\n",
       "       [ 4.06736643e-01,  1.98200000e+03,  1.00000000e+00],\n",
       "       [ 5.87785252e-01,  1.98300000e+03,  1.00000000e+00],\n",
       "       [ 7.43144825e-01,  1.98400000e+03,  1.00000000e+00],\n",
       "       [ 8.66025404e-01,  1.98500000e+03,  1.00000000e+00],\n",
       "       [ 9.51056516e-01,  1.98600000e+03,  1.00000000e+00],\n",
       "       [ 9.94521895e-01,  1.98700000e+03,  1.00000000e+00],\n",
       "       [ 9.94521895e-01,  1.98800000e+03,  1.00000000e+00],\n",
       "       [ 9.51056516e-01,  1.98900000e+03,  1.00000000e+00],\n",
       "       [ 8.66025404e-01,  1.99000000e+03,  1.00000000e+00],\n",
       "       [ 7.43144825e-01,  1.99100000e+03,  1.00000000e+00],\n",
       "       [ 5.87785252e-01,  1.99200000e+03,  1.00000000e+00],\n",
       "       [ 4.06736643e-01,  1.99300000e+03,  1.00000000e+00],\n",
       "       [ 2.07911691e-01,  1.99400000e+03,  1.00000000e+00],\n",
       "       [ 1.27350887e-14,  1.99500000e+03,  1.00000000e+00],\n",
       "       [-2.07911691e-01,  1.99600000e+03,  1.00000000e+00],\n",
       "       [-4.06736643e-01,  1.99700000e+03,  1.00000000e+00],\n",
       "       [-5.87785252e-01,  1.99800000e+03,  1.00000000e+00],\n",
       "       [-7.43144825e-01,  1.99900000e+03,  1.00000000e+00],\n",
       "       [-8.66025404e-01,  2.00000000e+03,  1.00000000e+00],\n",
       "       [-9.51056516e-01,  2.00100000e+03,  1.00000000e+00],\n",
       "       [-9.94521895e-01,  2.00200000e+03,  1.00000000e+00],\n",
       "       [-9.94521895e-01,  2.00300000e+03,  1.00000000e+00],\n",
       "       [-9.51056516e-01,  2.00400000e+03,  1.00000000e+00],\n",
       "       [-8.66025404e-01,  2.00500000e+03,  1.00000000e+00],\n",
       "       [-7.43144825e-01,  2.00600000e+03,  1.00000000e+00],\n",
       "       [-5.87785252e-01,  2.00700000e+03,  1.00000000e+00],\n",
       "       [-4.06736643e-01,  2.00800000e+03,  1.00000000e+00],\n",
       "       [-2.07911691e-01,  2.00900000e+03,  1.00000000e+00],\n",
       "       [-2.35156945e-14,  2.01000000e+03,  1.00000000e+00],\n",
       "       [ 2.07911691e-01,  2.01100000e+03,  1.00000000e+00],\n",
       "       [ 4.06736643e-01,  2.01200000e+03,  1.00000000e+00],\n",
       "       [ 5.87785252e-01,  2.01300000e+03,  1.00000000e+00],\n",
       "       [ 7.43144825e-01,  2.01400000e+03,  1.00000000e+00],\n",
       "       [ 8.66025404e-01,  2.01500000e+03,  1.00000000e+00],\n",
       "       [ 9.51056516e-01,  2.01600000e+03,  1.00000000e+00],\n",
       "       [ 9.94521895e-01,  2.01700000e+03,  1.00000000e+00],\n",
       "       [ 9.94521895e-01,  2.01800000e+03,  1.00000000e+00],\n",
       "       [ 9.51056516e-01,  2.01900000e+03,  1.00000000e+00],\n",
       "       [ 8.66025404e-01,  2.02000000e+03,  1.00000000e+00]])"
      ]
     },
     "execution_count": 37,
     "metadata": {},
     "output_type": "execute_result"
    }
   ],
   "source": [
    "A = np.zeros((len(year),3))\n",
    "A[0:,0] = np.sin(year*2*np.pi/30)\n",
    "A[0:,1] = year\n",
    "A[0:,2] = 1\n",
    "A"
   ]
  },
  {
   "cell_type": "code",
   "execution_count": 38,
   "metadata": {},
   "outputs": [
    {
     "data": {
      "text/plain": [
       "array([4.70903427e-01, 2.29665153e-02, 3.35644541e+01])"
      ]
     },
     "execution_count": 38,
     "metadata": {},
     "output_type": "execute_result"
    }
   ],
   "source": [
    "linfit = np.matmul(np.linalg.pinv(A),augtemp)\n",
    "linfit"
   ]
  },
  {
   "cell_type": "code",
   "execution_count": 39,
   "metadata": {},
   "outputs": [
    {
     "data": {
      "image/png": "[encoded data removed]",
      "text/plain": [
       "<Figure size 640x480 with 1 Axes>"
      ]
     },
     "metadata": {},
     "output_type": "display_data"
    }
   ],
   "source": [
    "plt.plot(year,augtemp,'k.')\n",
    "plt.plot(year,linfit[2]+linfit[1]*year+linfit[0]*np.sin(year*2*np.pi/30),'r-')\n",
    "plt.xlabel('year')\n",
    "plt.ylabel('ATL Aug temperature, deg F')\n",
    "plt.show()"
   ]
  },
  {
   "cell_type": "code",
   "execution_count": null,
   "metadata": {},
   "outputs": [],
   "source": []
  }
 ],
 "metadata": {
  "kernelspec": {
   "display_name": "Python 3 (ipykernel)",
   "language": "python",
   "name": "python3"
  },
  "language_info": {
   "codemirror_mode": {
    "name": "ipython",
    "version": 3
   },
   "file_extension": ".py",
   "mimetype": "text/x-python",
   "name": "python",
   "nbconvert_exporter": "python",
   "pygments_lexer": "ipython3",
   "version": "3.10.9"
  }
 },
 "nbformat": 4,
 "nbformat_minor": 2
}
