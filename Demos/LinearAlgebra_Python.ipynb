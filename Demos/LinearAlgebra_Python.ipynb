{
 "cells": [
  {
   "cell_type": "markdown",
   "metadata": {},
   "source": [
    "# Linear Algebra in Python"
   ]
  },
  {
   "cell_type": "markdown",
   "metadata": {},
   "source": [
    "This is a Jupyter notebook that takes you through basic linear algebra in Python."
   ]
  },
  {
   "cell_type": "markdown",
   "metadata": {},
   "source": [
    "## Loading packages"
   ]
  },
  {
   "cell_type": "code",
   "execution_count": 48,
   "metadata": {},
   "outputs": [],
   "source": [
    "import numpy as np\n",
    "import matplotlib.pyplot as plt\n",
    "import scipy\n",
    "import pandas as pd"
   ]
  },
  {
   "cell_type": "markdown",
   "metadata": {},
   "source": [
    "## Vector and their products"
   ]
  },
  {
   "cell_type": "markdown",
   "metadata": {},
   "source": [
    "Lets define some vectors"
   ]
  },
  {
   "cell_type": "code",
   "execution_count": 16,
   "metadata": {},
   "outputs": [],
   "source": [
    "x = [2, 9, 4, 2, -4]\n",
    "y = [8, 5, -4, 1, -2]"
   ]
  },
  {
   "cell_type": "markdown",
   "metadata": {},
   "source": [
    "Inner product of two vector is a scalar"
   ]
  },
  {
   "cell_type": "code",
   "execution_count": 17,
   "metadata": {},
   "outputs": [
    {
     "data": {
      "text/plain": [
       "55"
      ]
     },
     "execution_count": 17,
     "metadata": {},
     "output_type": "execute_result"
    }
   ],
   "source": [
    "np.inner(x,y)"
   ]
  },
  {
   "cell_type": "markdown",
   "metadata": {},
   "source": [
    "Cross product"
   ]
  },
  {
   "cell_type": "code",
   "execution_count": 23,
   "metadata": {},
   "outputs": [
    {
     "data": {
      "text/plain": [
       "array([-56,  40, -62])"
      ]
     },
     "execution_count": 23,
     "metadata": {},
     "output_type": "execute_result"
    }
   ],
   "source": [
    "np.cross(x[0:3],y[0:3])"
   ]
  },
  {
   "cell_type": "code",
   "execution_count": 20,
   "metadata": {},
   "outputs": [
    {
     "data": {
      "text/plain": [
       "array([[ 16,  10,  -8,   2,  -4],\n",
       "       [ 72,  45, -36,   9, -18],\n",
       "       [ 32,  20, -16,   4,  -8],\n",
       "       [ 16,  10,  -8,   2,  -4],\n",
       "       [-32, -20,  16,  -4,   8]])"
      ]
     },
     "execution_count": 20,
     "metadata": {},
     "output_type": "execute_result"
    }
   ],
   "source": [
    "np.outer(x,y)"
   ]
  },
  {
   "cell_type": "markdown",
   "metadata": {},
   "source": [
    "## Simple Statistics"
   ]
  },
  {
   "cell_type": "markdown",
   "metadata": {},
   "source": [
    "Anomalies from the mean"
   ]
  },
  {
   "cell_type": "code",
   "execution_count": 25,
   "metadata": {},
   "outputs": [
    {
     "data": {
      "text/plain": [
       "array([-0.6,  6.4,  1.4, -0.6, -6.6])"
      ]
     },
     "execution_count": 25,
     "metadata": {},
     "output_type": "execute_result"
    }
   ],
   "source": [
    "xanom = x - np.mean(x)\n",
    "xanom"
   ]
  },
  {
   "cell_type": "markdown",
   "metadata": {},
   "source": [
    "Variance of x"
   ]
  },
  {
   "cell_type": "code",
   "execution_count": 33,
   "metadata": {},
   "outputs": [
    {
     "data": {
      "text/plain": [
       "21.8"
      ]
     },
     "execution_count": 33,
     "metadata": {},
     "output_type": "execute_result"
    }
   ],
   "source": [
    "np.inner(xanom,xanom) / (len(x)-1)"
   ]
  },
  {
   "cell_type": "markdown",
   "metadata": {},
   "source": [
    "Calculated another way, but with one important difference to note: default python definition of stdev as  “population standard deviation” where numerator (degrees of freedom) is N, not N-1, which corresponds to a sample standard deviation"
   ]
  },
  {
   "cell_type": "code",
   "execution_count": 35,
   "metadata": {},
   "outputs": [
    {
     "data": {
      "text/plain": [
       "21.8"
      ]
     },
     "execution_count": 35,
     "metadata": {},
     "output_type": "execute_result"
    }
   ],
   "source": [
    "np.std(x,ddof=1)**2"
   ]
  },
  {
   "cell_type": "markdown",
   "metadata": {},
   "source": [
    "Covariance can be calculated in a similar way"
   ]
  },
  {
   "cell_type": "code",
   "execution_count": 36,
   "metadata": {},
   "outputs": [
    {
     "data": {
      "text/plain": [
       "8.55"
      ]
     },
     "execution_count": 36,
     "metadata": {},
     "output_type": "execute_result"
    }
   ],
   "source": [
    "yanom = y - np.mean(y)\n",
    "np.inner(xanom,yanom) / (len(x)-1)"
   ]
  },
  {
   "cell_type": "markdown",
   "metadata": {},
   "source": [
    "## Matrix algebra"
   ]
  },
  {
   "cell_type": "markdown",
   "metadata": {},
   "source": [
    "Solving various version of the Ax=b problem which solves a linear system of equations"
   ]
  },
  {
   "cell_type": "code",
   "execution_count": 39,
   "metadata": {},
   "outputs": [],
   "source": [
    "A = np.array([[1,-1],[1,1]])\n",
    "b = np.array([0,2]).T"
   ]
  },
  {
   "cell_type": "markdown",
   "metadata": {},
   "source": [
    "Using inverse to calculate"
   ]
  },
  {
   "cell_type": "code",
   "execution_count": 43,
   "metadata": {},
   "outputs": [
    {
     "data": {
      "text/plain": [
       "array([1., 1.])"
      ]
     },
     "execution_count": 43,
     "metadata": {},
     "output_type": "execute_result"
    }
   ],
   "source": [
    "np.matmul(np.linalg.inv(A),b)"
   ]
  },
  {
   "cell_type": "markdown",
   "metadata": {},
   "source": [
    "Now for a least-squares problem"
   ]
  },
  {
   "cell_type": "code",
   "execution_count": 45,
   "metadata": {},
   "outputs": [],
   "source": [
    "A = np.array([[1,-3,4,5,9],[2,6,-3,4,8],[-1,0,-8,3,5]])\n",
    "b = np.array([3,5,2]).T"
   ]
  },
  {
   "cell_type": "code",
   "execution_count": 46,
   "metadata": {},
   "outputs": [
    {
     "data": {
      "text/plain": [
       "array([ 0.1091305 ,  0.26073263, -0.00331368,  0.15598932,  0.32293062])"
      ]
     },
     "execution_count": 46,
     "metadata": {},
     "output_type": "execute_result"
    }
   ],
   "source": [
    "np.matmul(np.linalg.pinv(A),b)"
   ]
  },
  {
   "cell_type": "markdown",
   "metadata": {},
   "source": [
    "## Calculating a linear regression with real data"
   ]
  },
  {
   "cell_type": "markdown",
   "metadata": {},
   "source": [
    "Load in and plot Atlanta monthly mean temperature data using pandas and matplotlib"
   ]
  },
  {
   "cell_type": "code",
   "execution_count": 52,
   "metadata": {},
   "outputs": [
    {
     "data": {
      "text/html": [
       "<div>\n",
       "<style scoped>\n",
       "    .dataframe tbody tr th:only-of-type {\n",
       "        vertical-align: middle;\n",
       "    }\n",
       "\n",
       "    .dataframe tbody tr th {\n",
       "        vertical-align: top;\n",
       "    }\n",
       "\n",
       "    .dataframe thead th {\n",
       "        text-align: right;\n",
       "    }\n",
       "</style>\n",
       "<table border=\"1\" class=\"dataframe\">\n",
       "  <thead>\n",
       "    <tr style=\"text-align: right;\">\n",
       "      <th></th>\n",
       "      <th>Year</th>\n",
       "      <th>JAN</th>\n",
       "      <th>FEB</th>\n",
       "      <th>MAR</th>\n",
       "      <th>APR</th>\n",
       "      <th>MAY</th>\n",
       "      <th>JUN</th>\n",
       "      <th>JUL</th>\n",
       "      <th>AUG</th>\n",
       "      <th>SEP</th>\n",
       "      <th>OCT</th>\n",
       "      <th>NOV</th>\n",
       "      <th>DEC</th>\n",
       "    </tr>\n",
       "  </thead>\n",
       "  <tbody>\n",
       "    <tr>\n",
       "      <th>0</th>\n",
       "      <td>1879</td>\n",
       "      <td>44.3</td>\n",
       "      <td>43.7</td>\n",
       "      <td>57.6</td>\n",
       "      <td>58.9</td>\n",
       "      <td>69.8</td>\n",
       "      <td>74.9</td>\n",
       "      <td>79.6</td>\n",
       "      <td>73.9</td>\n",
       "      <td>68.7</td>\n",
       "      <td>64.3</td>\n",
       "      <td>53.9</td>\n",
       "      <td>51.5</td>\n",
       "    </tr>\n",
       "    <tr>\n",
       "      <th>1</th>\n",
       "      <td>1880</td>\n",
       "      <td>54.3</td>\n",
       "      <td>51.4</td>\n",
       "      <td>55.5</td>\n",
       "      <td>63.4</td>\n",
       "      <td>71.0</td>\n",
       "      <td>76.5</td>\n",
       "      <td>79.2</td>\n",
       "      <td>76.8</td>\n",
       "      <td>69.4</td>\n",
       "      <td>60.8</td>\n",
       "      <td>47.2</td>\n",
       "      <td>42.1</td>\n",
       "    </tr>\n",
       "    <tr>\n",
       "      <th>2</th>\n",
       "      <td>1881</td>\n",
       "      <td>40.1</td>\n",
       "      <td>46.6</td>\n",
       "      <td>49.1</td>\n",
       "      <td>59.1</td>\n",
       "      <td>70.8</td>\n",
       "      <td>77.8</td>\n",
       "      <td>81.1</td>\n",
       "      <td>78.8</td>\n",
       "      <td>75.5</td>\n",
       "      <td>67.2</td>\n",
       "      <td>52.6</td>\n",
       "      <td>49.6</td>\n",
       "    </tr>\n",
       "    <tr>\n",
       "      <th>3</th>\n",
       "      <td>1882</td>\n",
       "      <td>48.8</td>\n",
       "      <td>52.4</td>\n",
       "      <td>57.4</td>\n",
       "      <td>64.8</td>\n",
       "      <td>66.1</td>\n",
       "      <td>76.6</td>\n",
       "      <td>75.9</td>\n",
       "      <td>75.8</td>\n",
       "      <td>71.7</td>\n",
       "      <td>65.8</td>\n",
       "      <td>51.1</td>\n",
       "      <td>41.4</td>\n",
       "    </tr>\n",
       "    <tr>\n",
       "      <th>4</th>\n",
       "      <td>1883</td>\n",
       "      <td>43.0</td>\n",
       "      <td>50.2</td>\n",
       "      <td>50.2</td>\n",
       "      <td>61.6</td>\n",
       "      <td>67.4</td>\n",
       "      <td>76.4</td>\n",
       "      <td>80.1</td>\n",
       "      <td>76.2</td>\n",
       "      <td>71.3</td>\n",
       "      <td>66.0</td>\n",
       "      <td>53.7</td>\n",
       "      <td>48.0</td>\n",
       "    </tr>\n",
       "    <tr>\n",
       "      <th>...</th>\n",
       "      <td>...</td>\n",
       "      <td>...</td>\n",
       "      <td>...</td>\n",
       "      <td>...</td>\n",
       "      <td>...</td>\n",
       "      <td>...</td>\n",
       "      <td>...</td>\n",
       "      <td>...</td>\n",
       "      <td>...</td>\n",
       "      <td>...</td>\n",
       "      <td>...</td>\n",
       "      <td>...</td>\n",
       "      <td>...</td>\n",
       "    </tr>\n",
       "    <tr>\n",
       "      <th>137</th>\n",
       "      <td>2016</td>\n",
       "      <td>42.4</td>\n",
       "      <td>48.5</td>\n",
       "      <td>60.5</td>\n",
       "      <td>64.1</td>\n",
       "      <td>71.1</td>\n",
       "      <td>81.0</td>\n",
       "      <td>83.4</td>\n",
       "      <td>82.7</td>\n",
       "      <td>78.8</td>\n",
       "      <td>69.6</td>\n",
       "      <td>58.9</td>\n",
       "      <td>48.9</td>\n",
       "    </tr>\n",
       "    <tr>\n",
       "      <th>138</th>\n",
       "      <td>2017</td>\n",
       "      <td>52.0</td>\n",
       "      <td>56.1</td>\n",
       "      <td>57.7</td>\n",
       "      <td>67.8</td>\n",
       "      <td>71.1</td>\n",
       "      <td>76.6</td>\n",
       "      <td>81.2</td>\n",
       "      <td>79.2</td>\n",
       "      <td>73.8</td>\n",
       "      <td>65.7</td>\n",
       "      <td>56.2</td>\n",
       "      <td>46.8</td>\n",
       "    </tr>\n",
       "    <tr>\n",
       "      <th>139</th>\n",
       "      <td>2018</td>\n",
       "      <td>40.4</td>\n",
       "      <td>57.3</td>\n",
       "      <td>53.5</td>\n",
       "      <td>59.8</td>\n",
       "      <td>74.8</td>\n",
       "      <td>79.8</td>\n",
       "      <td>80.8</td>\n",
       "      <td>79.7</td>\n",
       "      <td>81.0</td>\n",
       "      <td>67.4</td>\n",
       "      <td>50.3</td>\n",
       "      <td>48.6</td>\n",
       "    </tr>\n",
       "    <tr>\n",
       "      <th>140</th>\n",
       "      <td>2019</td>\n",
       "      <td>45.9</td>\n",
       "      <td>53.8</td>\n",
       "      <td>55.4</td>\n",
       "      <td>65.3</td>\n",
       "      <td>76.4</td>\n",
       "      <td>77.7</td>\n",
       "      <td>82.2</td>\n",
       "      <td>82.5</td>\n",
       "      <td>82.4</td>\n",
       "      <td>68.4</td>\n",
       "      <td>52.5</td>\n",
       "      <td>51.2</td>\n",
       "    </tr>\n",
       "    <tr>\n",
       "      <th>141</th>\n",
       "      <td>2020</td>\n",
       "      <td>49.2</td>\n",
       "      <td>49.9</td>\n",
       "      <td>61.6</td>\n",
       "      <td>61.6</td>\n",
       "      <td>68.9</td>\n",
       "      <td>76.8</td>\n",
       "      <td>82.1</td>\n",
       "      <td>80.9</td>\n",
       "      <td>73.8</td>\n",
       "      <td>67.3</td>\n",
       "      <td>58.9</td>\n",
       "      <td>46.1</td>\n",
       "    </tr>\n",
       "  </tbody>\n",
       "</table>\n",
       "<p>142 rows × 13 columns</p>\n",
       "</div>"
      ],
      "text/plain": [
       "     Year   JAN   FEB   MAR   APR   MAY   JUN   JUL   AUG   SEP   OCT   NOV  \\\n",
       "0    1879  44.3  43.7  57.6  58.9  69.8  74.9  79.6  73.9  68.7  64.3  53.9   \n",
       "1    1880  54.3  51.4  55.5  63.4  71.0  76.5  79.2  76.8  69.4  60.8  47.2   \n",
       "2    1881  40.1  46.6  49.1  59.1  70.8  77.8  81.1  78.8  75.5  67.2  52.6   \n",
       "3    1882  48.8  52.4  57.4  64.8  66.1  76.6  75.9  75.8  71.7  65.8  51.1   \n",
       "4    1883  43.0  50.2  50.2  61.6  67.4  76.4  80.1  76.2  71.3  66.0  53.7   \n",
       "..    ...   ...   ...   ...   ...   ...   ...   ...   ...   ...   ...   ...   \n",
       "137  2016  42.4  48.5  60.5  64.1  71.1  81.0  83.4  82.7  78.8  69.6  58.9   \n",
       "138  2017  52.0  56.1  57.7  67.8  71.1  76.6  81.2  79.2  73.8  65.7  56.2   \n",
       "139  2018  40.4  57.3  53.5  59.8  74.8  79.8  80.8  79.7  81.0  67.4  50.3   \n",
       "140  2019  45.9  53.8  55.4  65.3  76.4  77.7  82.2  82.5  82.4  68.4  52.5   \n",
       "141  2020  49.2  49.9  61.6  61.6  68.9  76.8  82.1  80.9  73.8  67.3  58.9   \n",
       "\n",
       "      DEC  \n",
       "0    51.5  \n",
       "1    42.1  \n",
       "2    49.6  \n",
       "3    41.4  \n",
       "4    48.0  \n",
       "..    ...  \n",
       "137  48.9  \n",
       "138  46.8  \n",
       "139  48.6  \n",
       "140  51.2  \n",
       "141  46.1  \n",
       "\n",
       "[142 rows x 13 columns]"
      ]
     },
     "execution_count": 52,
     "metadata": {},
     "output_type": "execute_result"
    }
   ],
   "source": [
    "df=pd.read_csv(\"ATL_MonMeanTemp_1879_2020.csv\")\n",
    "df"
   ]
  },
  {
   "cell_type": "code",
   "execution_count": 65,
   "metadata": {},
   "outputs": [],
   "source": [
    "atl=df.to_numpy()\n",
    "year = atl[0:,0]\n",
    "augtemp = atl[0:,8]"
   ]
  },
  {
   "cell_type": "code",
   "execution_count": 66,
   "metadata": {},
   "outputs": [
    {
     "data": {
      "image/png": "[encoded data removed]",
      "text/plain": [
       "<Figure size 640x480 with 1 Axes>"
      ]
     },
     "metadata": {},
     "output_type": "display_data"
    }
   ],
   "source": [
    "plt.plot(year,augtemp,'k.')\n",
    "plt.xlabel('year')\n",
    "plt.ylabel('ATL Aug temperature, deg F')\n",
    "plt.show()"
   ]
  },
  {
   "cell_type": "markdown",
   "metadata": {},
   "source": [
    "Setup matrices for linear regression"
   ]
  },
  {
   "cell_type": "code",
   "execution_count": 67,
   "metadata": {},
   "outputs": [
    {
     "data": {
      "text/plain": [
       "array([[1.879e+03, 1.000e+00],\n",
       "       [1.880e+03, 1.000e+00],\n",
       "       [1.881e+03, 1.000e+00],\n",
       "       [1.882e+03, 1.000e+00],\n",
       "       [1.883e+03, 1.000e+00],\n",
       "       [1.884e+03, 1.000e+00],\n",
       "       [1.885e+03, 1.000e+00],\n",
       "       [1.886e+03, 1.000e+00],\n",
       "       [1.887e+03, 1.000e+00],\n",
       "       [1.888e+03, 1.000e+00],\n",
       "       [1.889e+03, 1.000e+00],\n",
       "       [1.890e+03, 1.000e+00],\n",
       "       [1.891e+03, 1.000e+00],\n",
       "       [1.892e+03, 1.000e+00],\n",
       "       [1.893e+03, 1.000e+00],\n",
       "       [1.894e+03, 1.000e+00],\n",
       "       [1.895e+03, 1.000e+00],\n",
       "       [1.896e+03, 1.000e+00],\n",
       "       [1.897e+03, 1.000e+00],\n",
       "       [1.898e+03, 1.000e+00],\n",
       "       [1.899e+03, 1.000e+00],\n",
       "       [1.900e+03, 1.000e+00],\n",
       "       [1.901e+03, 1.000e+00],\n",
       "       [1.902e+03, 1.000e+00],\n",
       "       [1.903e+03, 1.000e+00],\n",
       "       [1.904e+03, 1.000e+00],\n",
       "       [1.905e+03, 1.000e+00],\n",
       "       [1.906e+03, 1.000e+00],\n",
       "       [1.907e+03, 1.000e+00],\n",
       "       [1.908e+03, 1.000e+00],\n",
       "       [1.909e+03, 1.000e+00],\n",
       "       [1.910e+03, 1.000e+00],\n",
       "       [1.911e+03, 1.000e+00],\n",
       "       [1.912e+03, 1.000e+00],\n",
       "       [1.913e+03, 1.000e+00],\n",
       "       [1.914e+03, 1.000e+00],\n",
       "       [1.915e+03, 1.000e+00],\n",
       "       [1.916e+03, 1.000e+00],\n",
       "       [1.917e+03, 1.000e+00],\n",
       "       [1.918e+03, 1.000e+00],\n",
       "       [1.919e+03, 1.000e+00],\n",
       "       [1.920e+03, 1.000e+00],\n",
       "       [1.921e+03, 1.000e+00],\n",
       "       [1.922e+03, 1.000e+00],\n",
       "       [1.923e+03, 1.000e+00],\n",
       "       [1.924e+03, 1.000e+00],\n",
       "       [1.925e+03, 1.000e+00],\n",
       "       [1.926e+03, 1.000e+00],\n",
       "       [1.927e+03, 1.000e+00],\n",
       "       [1.928e+03, 1.000e+00],\n",
       "       [1.929e+03, 1.000e+00],\n",
       "       [1.930e+03, 1.000e+00],\n",
       "       [1.931e+03, 1.000e+00],\n",
       "       [1.932e+03, 1.000e+00],\n",
       "       [1.933e+03, 1.000e+00],\n",
       "       [1.934e+03, 1.000e+00],\n",
       "       [1.935e+03, 1.000e+00],\n",
       "       [1.936e+03, 1.000e+00],\n",
       "       [1.937e+03, 1.000e+00],\n",
       "       [1.938e+03, 1.000e+00],\n",
       "       [1.939e+03, 1.000e+00],\n",
       "       [1.940e+03, 1.000e+00],\n",
       "       [1.941e+03, 1.000e+00],\n",
       "       [1.942e+03, 1.000e+00],\n",
       "       [1.943e+03, 1.000e+00],\n",
       "       [1.944e+03, 1.000e+00],\n",
       "       [1.945e+03, 1.000e+00],\n",
       "       [1.946e+03, 1.000e+00],\n",
       "       [1.947e+03, 1.000e+00],\n",
       "       [1.948e+03, 1.000e+00],\n",
       "       [1.949e+03, 1.000e+00],\n",
       "       [1.950e+03, 1.000e+00],\n",
       "       [1.951e+03, 1.000e+00],\n",
       "       [1.952e+03, 1.000e+00],\n",
       "       [1.953e+03, 1.000e+00],\n",
       "       [1.954e+03, 1.000e+00],\n",
       "       [1.955e+03, 1.000e+00],\n",
       "       [1.956e+03, 1.000e+00],\n",
       "       [1.957e+03, 1.000e+00],\n",
       "       [1.958e+03, 1.000e+00],\n",
       "       [1.959e+03, 1.000e+00],\n",
       "       [1.960e+03, 1.000e+00],\n",
       "       [1.961e+03, 1.000e+00],\n",
       "       [1.962e+03, 1.000e+00],\n",
       "       [1.963e+03, 1.000e+00],\n",
       "       [1.964e+03, 1.000e+00],\n",
       "       [1.965e+03, 1.000e+00],\n",
       "       [1.966e+03, 1.000e+00],\n",
       "       [1.967e+03, 1.000e+00],\n",
       "       [1.968e+03, 1.000e+00],\n",
       "       [1.969e+03, 1.000e+00],\n",
       "       [1.970e+03, 1.000e+00],\n",
       "       [1.971e+03, 1.000e+00],\n",
       "       [1.972e+03, 1.000e+00],\n",
       "       [1.973e+03, 1.000e+00],\n",
       "       [1.974e+03, 1.000e+00],\n",
       "       [1.975e+03, 1.000e+00],\n",
       "       [1.976e+03, 1.000e+00],\n",
       "       [1.977e+03, 1.000e+00],\n",
       "       [1.978e+03, 1.000e+00],\n",
       "       [1.979e+03, 1.000e+00],\n",
       "       [1.980e+03, 1.000e+00],\n",
       "       [1.981e+03, 1.000e+00],\n",
       "       [1.982e+03, 1.000e+00],\n",
       "       [1.983e+03, 1.000e+00],\n",
       "       [1.984e+03, 1.000e+00],\n",
       "       [1.985e+03, 1.000e+00],\n",
       "       [1.986e+03, 1.000e+00],\n",
       "       [1.987e+03, 1.000e+00],\n",
       "       [1.988e+03, 1.000e+00],\n",
       "       [1.989e+03, 1.000e+00],\n",
       "       [1.990e+03, 1.000e+00],\n",
       "       [1.991e+03, 1.000e+00],\n",
       "       [1.992e+03, 1.000e+00],\n",
       "       [1.993e+03, 1.000e+00],\n",
       "       [1.994e+03, 1.000e+00],\n",
       "       [1.995e+03, 1.000e+00],\n",
       "       [1.996e+03, 1.000e+00],\n",
       "       [1.997e+03, 1.000e+00],\n",
       "       [1.998e+03, 1.000e+00],\n",
       "       [1.999e+03, 1.000e+00],\n",
       "       [2.000e+03, 1.000e+00],\n",
       "       [2.001e+03, 1.000e+00],\n",
       "       [2.002e+03, 1.000e+00],\n",
       "       [2.003e+03, 1.000e+00],\n",
       "       [2.004e+03, 1.000e+00],\n",
       "       [2.005e+03, 1.000e+00],\n",
       "       [2.006e+03, 1.000e+00],\n",
       "       [2.007e+03, 1.000e+00],\n",
       "       [2.008e+03, 1.000e+00],\n",
       "       [2.009e+03, 1.000e+00],\n",
       "       [2.010e+03, 1.000e+00],\n",
       "       [2.011e+03, 1.000e+00],\n",
       "       [2.012e+03, 1.000e+00],\n",
       "       [2.013e+03, 1.000e+00],\n",
       "       [2.014e+03, 1.000e+00],\n",
       "       [2.015e+03, 1.000e+00],\n",
       "       [2.016e+03, 1.000e+00],\n",
       "       [2.017e+03, 1.000e+00],\n",
       "       [2.018e+03, 1.000e+00],\n",
       "       [2.019e+03, 1.000e+00],\n",
       "       [2.020e+03, 1.000e+00]])"
      ]
     },
     "execution_count": 67,
     "metadata": {},
     "output_type": "execute_result"
    }
   ],
   "source": [
    "A = np.zeros((len(year),2))\n",
    "A[0:,0] = year\n",
    "A[0:,1] = 1\n",
    "A"
   ]
  },
  {
   "cell_type": "code",
   "execution_count": 68,
   "metadata": {},
   "outputs": [
    {
     "data": {
      "text/plain": [
       "array([2.39250112e-02, 3.16934020e+01])"
      ]
     },
     "execution_count": 68,
     "metadata": {},
     "output_type": "execute_result"
    }
   ],
   "source": [
    "linfit = np.matmul(np.linalg.pinv(A),augtemp)\n",
    "linfit"
   ]
  },
  {
   "cell_type": "code",
   "execution_count": 69,
   "metadata": {},
   "outputs": [
    {
     "data": {
      "image/png": "[encoded data removed]",
      "text/plain": [
       "<Figure size 640x480 with 1 Axes>"
      ]
     },
     "metadata": {},
     "output_type": "display_data"
    }
   ],
   "source": [
    "plt.plot(year,augtemp,'k.')\n",
    "plt.plot(year,linfit[1]+linfit[0]*year,'r-')\n",
    "plt.xlabel('year')\n",
    "plt.ylabel('ATL Aug temperature, deg F')\n",
    "plt.show()"
   ]
  },
  {
   "cell_type": "code",
   "execution_count": null,
   "metadata": {},
   "outputs": [],
   "source": []
  }
 ],
 "metadata": {
  "kernelspec": {
   "display_name": "Python 3 (ipykernel)",
   "language": "python",
   "name": "python3"
  },
  "language_info": {
   "codemirror_mode": {
    "name": "ipython",
    "version": 3
   },
   "file_extension": ".py",
   "mimetype": "text/x-python",
   "name": "python",
   "nbconvert_exporter": "python",
   "pygments_lexer": "ipython3",
   "version": "3.10.9"
  }
 },
 "nbformat": 4,
 "nbformat_minor": 2
}
