{
 "cells": [
  {
   "cell_type": "markdown",
   "metadata": {},
   "source": [
    "# Statistics in Python"
   ]
  },
  {
   "cell_type": "markdown",
   "metadata": {},
   "source": [
    "This is a Jupyter notebook that takes you through basic statistics in Python."
   ]
  },
  {
   "cell_type": "markdown",
   "metadata": {},
   "source": [
    "## Loading packages"
   ]
  },
  {
   "cell_type": "code",
   "execution_count": 2,
   "metadata": {},
   "outputs": [],
   "source": [
    "import numpy as np\n",
    "import matplotlib.pyplot as plt\n",
    "import scipy\n",
    "import pandas as pd"
   ]
  },
  {
   "cell_type": "markdown",
   "metadata": {},
   "source": [
    "## Calculate some relevant statistics for Atlanta temperatures"
   ]
  },
  {
   "cell_type": "markdown",
   "metadata": {},
   "source": [
    "Load in and plot Atlanta August monthly mean temperature data using pandas and matplotlib"
   ]
  },
  {
   "cell_type": "code",
   "execution_count": 3,
   "metadata": {},
   "outputs": [
    {
     "data": {
      "text/html": [
       "<div>\n",
       "<style scoped>\n",
       "    .dataframe tbody tr th:only-of-type {\n",
       "        vertical-align: middle;\n",
       "    }\n",
       "\n",
       "    .dataframe tbody tr th {\n",
       "        vertical-align: top;\n",
       "    }\n",
       "\n",
       "    .dataframe thead th {\n",
       "        text-align: right;\n",
       "    }\n",
       "</style>\n",
       "<table border=\"1\" class=\"dataframe\">\n",
       "  <thead>\n",
       "    <tr style=\"text-align: right;\">\n",
       "      <th></th>\n",
       "      <th>Year</th>\n",
       "      <th>JAN</th>\n",
       "      <th>FEB</th>\n",
       "      <th>MAR</th>\n",
       "      <th>APR</th>\n",
       "      <th>MAY</th>\n",
       "      <th>JUN</th>\n",
       "      <th>JUL</th>\n",
       "      <th>AUG</th>\n",
       "      <th>SEP</th>\n",
       "      <th>OCT</th>\n",
       "      <th>NOV</th>\n",
       "      <th>DEC</th>\n",
       "    </tr>\n",
       "  </thead>\n",
       "  <tbody>\n",
       "    <tr>\n",
       "      <th>0</th>\n",
       "      <td>1879</td>\n",
       "      <td>44.3</td>\n",
       "      <td>43.7</td>\n",
       "      <td>57.6</td>\n",
       "      <td>58.9</td>\n",
       "      <td>69.8</td>\n",
       "      <td>74.9</td>\n",
       "      <td>79.6</td>\n",
       "      <td>73.9</td>\n",
       "      <td>68.7</td>\n",
       "      <td>64.3</td>\n",
       "      <td>53.9</td>\n",
       "      <td>51.5</td>\n",
       "    </tr>\n",
       "    <tr>\n",
       "      <th>1</th>\n",
       "      <td>1880</td>\n",
       "      <td>54.3</td>\n",
       "      <td>51.4</td>\n",
       "      <td>55.5</td>\n",
       "      <td>63.4</td>\n",
       "      <td>71.0</td>\n",
       "      <td>76.5</td>\n",
       "      <td>79.2</td>\n",
       "      <td>76.8</td>\n",
       "      <td>69.4</td>\n",
       "      <td>60.8</td>\n",
       "      <td>47.2</td>\n",
       "      <td>42.1</td>\n",
       "    </tr>\n",
       "    <tr>\n",
       "      <th>2</th>\n",
       "      <td>1881</td>\n",
       "      <td>40.1</td>\n",
       "      <td>46.6</td>\n",
       "      <td>49.1</td>\n",
       "      <td>59.1</td>\n",
       "      <td>70.8</td>\n",
       "      <td>77.8</td>\n",
       "      <td>81.1</td>\n",
       "      <td>78.8</td>\n",
       "      <td>75.5</td>\n",
       "      <td>67.2</td>\n",
       "      <td>52.6</td>\n",
       "      <td>49.6</td>\n",
       "    </tr>\n",
       "    <tr>\n",
       "      <th>3</th>\n",
       "      <td>1882</td>\n",
       "      <td>48.8</td>\n",
       "      <td>52.4</td>\n",
       "      <td>57.4</td>\n",
       "      <td>64.8</td>\n",
       "      <td>66.1</td>\n",
       "      <td>76.6</td>\n",
       "      <td>75.9</td>\n",
       "      <td>75.8</td>\n",
       "      <td>71.7</td>\n",
       "      <td>65.8</td>\n",
       "      <td>51.1</td>\n",
       "      <td>41.4</td>\n",
       "    </tr>\n",
       "    <tr>\n",
       "      <th>4</th>\n",
       "      <td>1883</td>\n",
       "      <td>43.0</td>\n",
       "      <td>50.2</td>\n",
       "      <td>50.2</td>\n",
       "      <td>61.6</td>\n",
       "      <td>67.4</td>\n",
       "      <td>76.4</td>\n",
       "      <td>80.1</td>\n",
       "      <td>76.2</td>\n",
       "      <td>71.3</td>\n",
       "      <td>66.0</td>\n",
       "      <td>53.7</td>\n",
       "      <td>48.0</td>\n",
       "    </tr>\n",
       "    <tr>\n",
       "      <th>...</th>\n",
       "      <td>...</td>\n",
       "      <td>...</td>\n",
       "      <td>...</td>\n",
       "      <td>...</td>\n",
       "      <td>...</td>\n",
       "      <td>...</td>\n",
       "      <td>...</td>\n",
       "      <td>...</td>\n",
       "      <td>...</td>\n",
       "      <td>...</td>\n",
       "      <td>...</td>\n",
       "      <td>...</td>\n",
       "      <td>...</td>\n",
       "    </tr>\n",
       "    <tr>\n",
       "      <th>137</th>\n",
       "      <td>2016</td>\n",
       "      <td>42.4</td>\n",
       "      <td>48.5</td>\n",
       "      <td>60.5</td>\n",
       "      <td>64.1</td>\n",
       "      <td>71.1</td>\n",
       "      <td>81.0</td>\n",
       "      <td>83.4</td>\n",
       "      <td>82.7</td>\n",
       "      <td>78.8</td>\n",
       "      <td>69.6</td>\n",
       "      <td>58.9</td>\n",
       "      <td>48.9</td>\n",
       "    </tr>\n",
       "    <tr>\n",
       "      <th>138</th>\n",
       "      <td>2017</td>\n",
       "      <td>52.0</td>\n",
       "      <td>56.1</td>\n",
       "      <td>57.7</td>\n",
       "      <td>67.8</td>\n",
       "      <td>71.1</td>\n",
       "      <td>76.6</td>\n",
       "      <td>81.2</td>\n",
       "      <td>79.2</td>\n",
       "      <td>73.8</td>\n",
       "      <td>65.7</td>\n",
       "      <td>56.2</td>\n",
       "      <td>46.8</td>\n",
       "    </tr>\n",
       "    <tr>\n",
       "      <th>139</th>\n",
       "      <td>2018</td>\n",
       "      <td>40.4</td>\n",
       "      <td>57.3</td>\n",
       "      <td>53.5</td>\n",
       "      <td>59.8</td>\n",
       "      <td>74.8</td>\n",
       "      <td>79.8</td>\n",
       "      <td>80.8</td>\n",
       "      <td>79.7</td>\n",
       "      <td>81.0</td>\n",
       "      <td>67.4</td>\n",
       "      <td>50.3</td>\n",
       "      <td>48.6</td>\n",
       "    </tr>\n",
       "    <tr>\n",
       "      <th>140</th>\n",
       "      <td>2019</td>\n",
       "      <td>45.9</td>\n",
       "      <td>53.8</td>\n",
       "      <td>55.4</td>\n",
       "      <td>65.3</td>\n",
       "      <td>76.4</td>\n",
       "      <td>77.7</td>\n",
       "      <td>82.2</td>\n",
       "      <td>82.5</td>\n",
       "      <td>82.4</td>\n",
       "      <td>68.4</td>\n",
       "      <td>52.5</td>\n",
       "      <td>51.2</td>\n",
       "    </tr>\n",
       "    <tr>\n",
       "      <th>141</th>\n",
       "      <td>2020</td>\n",
       "      <td>49.2</td>\n",
       "      <td>49.9</td>\n",
       "      <td>61.6</td>\n",
       "      <td>61.6</td>\n",
       "      <td>68.9</td>\n",
       "      <td>76.8</td>\n",
       "      <td>82.1</td>\n",
       "      <td>80.9</td>\n",
       "      <td>73.8</td>\n",
       "      <td>67.3</td>\n",
       "      <td>58.9</td>\n",
       "      <td>46.1</td>\n",
       "    </tr>\n",
       "  </tbody>\n",
       "</table>\n",
       "<p>142 rows × 13 columns</p>\n",
       "</div>"
      ],
      "text/plain": [
       "     Year   JAN   FEB   MAR   APR   MAY   JUN   JUL   AUG   SEP   OCT   NOV  \\\n",
       "0    1879  44.3  43.7  57.6  58.9  69.8  74.9  79.6  73.9  68.7  64.3  53.9   \n",
       "1    1880  54.3  51.4  55.5  63.4  71.0  76.5  79.2  76.8  69.4  60.8  47.2   \n",
       "2    1881  40.1  46.6  49.1  59.1  70.8  77.8  81.1  78.8  75.5  67.2  52.6   \n",
       "3    1882  48.8  52.4  57.4  64.8  66.1  76.6  75.9  75.8  71.7  65.8  51.1   \n",
       "4    1883  43.0  50.2  50.2  61.6  67.4  76.4  80.1  76.2  71.3  66.0  53.7   \n",
       "..    ...   ...   ...   ...   ...   ...   ...   ...   ...   ...   ...   ...   \n",
       "137  2016  42.4  48.5  60.5  64.1  71.1  81.0  83.4  82.7  78.8  69.6  58.9   \n",
       "138  2017  52.0  56.1  57.7  67.8  71.1  76.6  81.2  79.2  73.8  65.7  56.2   \n",
       "139  2018  40.4  57.3  53.5  59.8  74.8  79.8  80.8  79.7  81.0  67.4  50.3   \n",
       "140  2019  45.9  53.8  55.4  65.3  76.4  77.7  82.2  82.5  82.4  68.4  52.5   \n",
       "141  2020  49.2  49.9  61.6  61.6  68.9  76.8  82.1  80.9  73.8  67.3  58.9   \n",
       "\n",
       "      DEC  \n",
       "0    51.5  \n",
       "1    42.1  \n",
       "2    49.6  \n",
       "3    41.4  \n",
       "4    48.0  \n",
       "..    ...  \n",
       "137  48.9  \n",
       "138  46.8  \n",
       "139  48.6  \n",
       "140  51.2  \n",
       "141  46.1  \n",
       "\n",
       "[142 rows x 13 columns]"
      ]
     },
     "execution_count": 3,
     "metadata": {},
     "output_type": "execute_result"
    }
   ],
   "source": [
    "df=pd.read_csv(\"ATL_MonMeanTemp_1879_2020.csv\")\n",
    "df"
   ]
  },
  {
   "cell_type": "code",
   "execution_count": 4,
   "metadata": {},
   "outputs": [],
   "source": [
    "atl=df.to_numpy()\n",
    "year = atl[0:,0]\n",
    "augtemp = atl[0:,8]"
   ]
  },
  {
   "cell_type": "code",
   "execution_count": 5,
   "metadata": {},
   "outputs": [
    {
     "data": {
      "image/png": "[encoded data removed]",
      "text/plain": [
       "<Figure size 640x480 with 1 Axes>"
      ]
     },
     "metadata": {},
     "output_type": "display_data"
    }
   ],
   "source": [
    "plt.plot(year,augtemp,'k.')\n",
    "plt.xlabel('year')\n",
    "plt.ylabel('ATL Aug temperature, deg F')\n",
    "plt.show()"
   ]
  },
  {
   "cell_type": "markdown",
   "metadata": {},
   "source": [
    "Calculate the mean and median and Gaussian distribution"
   ]
  },
  {
   "cell_type": "code",
   "execution_count": 7,
   "metadata": {},
   "outputs": [],
   "source": [
    "augtemp_mean = np.mean(augtemp)\n",
    "augtemp_median = np.percentile(augtemp,50) #second input is percentile (median is 50th)\n",
    "\n",
    "temps = np.linspace(np.min(augtemp),np.max(augtemp),100)\n",
    "augtemp_gauss = (1/(np.sqrt(2*np.pi)))*np.exp(-0.5*((temps-np.mean(augtemp))/np.std(augtemp,ddof=1))**2);"
   ]
  },
  {
   "cell_type": "markdown",
   "metadata": {},
   "source": [
    "Plot mean and median on a histogram"
   ]
  },
  {
   "cell_type": "code",
   "execution_count": 13,
   "metadata": {},
   "outputs": [
    {
     "data": {
      "text/plain": [
       "[<matplotlib.lines.Line2D at 0x7f7c53e6e770>]"
      ]
     },
     "execution_count": 13,
     "metadata": {},
     "output_type": "execute_result"
    },
    {
     "data": {
      "image/png": "[encoded data removed]",
      "text/plain": [
       "<Figure size 640x480 with 1 Axes>"
      ]
     },
     "metadata": {},
     "output_type": "display_data"
    }
   ],
   "source": [
    "counts, bins = np.histogram(augtemp)\n",
    "plt.stairs(counts/np.sum(counts), bins) #normalized by total number of observations\n",
    "plt.plot(augtemp_median*np.ones(5),np.linspace(0,0.25,5),'b-')\n",
    "plt.plot(augtemp_mean*np.ones(5),np.linspace(0,0.25,5),'r--')\n",
    "plt.plot(temps,augtemp_gauss/2,'k-')"
   ]
  },
  {
   "cell_type": "markdown",
   "metadata": {},
   "source": [
    "## Statistical Inference"
   ]
  },
  {
   "cell_type": "markdown",
   "metadata": {},
   "source": [
    "How to use statistics to answer questions:  \n",
    "*Science question*: Were the last 10 years  outside of the historical norm for August temperatures in ATL?  \n",
    "*Statistical question*: Can we reject the null hypothesis at a 95% confidence level that the mean of August temperatures over 2011-2020 was within the distribution of the historical average of Atlanta August temperatures?"
   ]
  },
  {
   "cell_type": "code",
   "execution_count": 24,
   "metadata": {},
   "outputs": [
    {
     "data": {
      "text/plain": [
       "3.2310614023170356"
      ]
     },
     "execution_count": 24,
     "metadata": {},
     "output_type": "execute_result"
    }
   ],
   "source": [
    "nyr = 10\n",
    "\n",
    "tcrit = scipy.stats.t.ppf(0.95, nyr-1)\n",
    "aug_recent = augtemp[-nyr:]\n",
    "tval = (np.mean(aug_recent) - augtemp_mean)/(np.std(aug_recent,ddof=1)/np.sqrt(nyr-1))\n",
    "tval"
   ]
  },
  {
   "cell_type": "code",
   "execution_count": 21,
   "metadata": {},
   "outputs": [
    {
     "data": {
      "text/plain": [
       "1.8331129326536335"
      ]
     },
     "execution_count": 21,
     "metadata": {},
     "output_type": "execute_result"
    }
   ],
   "source": [
    "tcrit"
   ]
  },
  {
   "cell_type": "markdown",
   "metadata": {},
   "source": [
    "Because $t_{val}>t_{crit}$, then we can reject the null hypothesis at the chosen confidence level. So, we can conclude at the 95% confidence interval that the average August temperature in Atlanta over the past 10 years is larger than the long-term average."
   ]
  },
  {
   "cell_type": "code",
   "execution_count": 26,
   "metadata": {},
   "outputs": [
    {
     "data": {
      "text/plain": [
       "0.005152556883335047"
      ]
     },
     "execution_count": 26,
     "metadata": {},
     "output_type": "execute_result"
    }
   ],
   "source": [
    "1-scipy.stats.t.cdf(tval,nyr-1)"
   ]
  },
  {
   "cell_type": "markdown",
   "metadata": {},
   "source": [
    "Indeed we can actually conclude that this 10-year mean would only be expected to occur 0.5% of the time if the long-term mean remained constant. We can conclude from this, that there is a high chance that the mean of the distribution has changed."
   ]
  }
 ],
 "metadata": {
  "kernelspec": {
   "display_name": "Python 3 (ipykernel)",
   "language": "python",
   "name": "python3"
  },
  "language_info": {
   "codemirror_mode": {
    "name": "ipython",
    "version": 3
   },
   "file_extension": ".py",
   "mimetype": "text/x-python",
   "name": "python",
   "nbconvert_exporter": "python",
   "pygments_lexer": "ipython3",
   "version": "3.10.9"
  }
 },
 "nbformat": 4,
 "nbformat_minor": 2
}
