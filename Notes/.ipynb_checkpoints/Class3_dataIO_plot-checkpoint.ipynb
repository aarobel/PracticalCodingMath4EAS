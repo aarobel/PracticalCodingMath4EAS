{
 "cells": [
  {
   "cell_type": "markdown",
   "id": "db65daf3",
   "metadata": {},
   "source": [
    "# Practical math and computing workshop day 3\n",
    "File IO and Plotting using numpy, matplotlib.pyplot and pandas\n",
    "This exercise includes several mini projects. All of these requires reading in data, selecting a portion of the data to be plotted. Then plotting it in different ways. "
   ]
  },
  {
   "cell_type": "markdown",
   "id": "1f82708b",
   "metadata": {},
   "source": [
    "## Project 1. Download the excel sheet containing the historical weather station data from Atlanta GA from https://o2.eas.gatech.edu/data/ATL_MonMeanTemp_1894_2020.xls\n",
    "### Select the mean Februrary temperature from 1900 to 2020 and make a line plot. "
   ]
  },
  {
   "cell_type": "code",
   "execution_count": 1,
   "id": "862df53b",
   "metadata": {},
   "outputs": [],
   "source": [
    "# import libraries\n",
    "import numpy as np\n",
    "import matplotlib.pyplot as plt\n",
    "import pandas as pd"
   ]
  },
  {
   "cell_type": "markdown",
   "id": "42bb1345",
   "metadata": {},
   "source": [
    "### Reading in Excel file using pd.read_excel function"
   ]
  },
  {
   "cell_type": "code",
   "execution_count": 2,
   "id": "ded6f78b",
   "metadata": {},
   "outputs": [
    {
     "data": {
      "text/html": [
       "<div>\n",
       "<style scoped>\n",
       "    .dataframe tbody tr th:only-of-type {\n",
       "        vertical-align: middle;\n",
       "    }\n",
       "\n",
       "    .dataframe tbody tr th {\n",
       "        vertical-align: top;\n",
       "    }\n",
       "\n",
       "    .dataframe thead th {\n",
       "        text-align: right;\n",
       "    }\n",
       "</style>\n",
       "<table border=\"1\" class=\"dataframe\">\n",
       "  <thead>\n",
       "    <tr style=\"text-align: right;\">\n",
       "      <th></th>\n",
       "      <th>Year</th>\n",
       "      <th>JAN</th>\n",
       "      <th>FEB</th>\n",
       "      <th>MAR</th>\n",
       "      <th>APR</th>\n",
       "      <th>MAY</th>\n",
       "      <th>JUN</th>\n",
       "      <th>JUL</th>\n",
       "      <th>AUG</th>\n",
       "      <th>SEP</th>\n",
       "      <th>OCT</th>\n",
       "      <th>NOV</th>\n",
       "      <th>DEC</th>\n",
       "    </tr>\n",
       "  </thead>\n",
       "  <tbody>\n",
       "    <tr>\n",
       "      <th>0</th>\n",
       "      <td>1879</td>\n",
       "      <td>44.3</td>\n",
       "      <td>43.7</td>\n",
       "      <td>57.6</td>\n",
       "      <td>58.9</td>\n",
       "      <td>69.8</td>\n",
       "      <td>74.9</td>\n",
       "      <td>79.6</td>\n",
       "      <td>73.9</td>\n",
       "      <td>68.7</td>\n",
       "      <td>64.3</td>\n",
       "      <td>53.9</td>\n",
       "      <td>51.5</td>\n",
       "    </tr>\n",
       "    <tr>\n",
       "      <th>1</th>\n",
       "      <td>1880</td>\n",
       "      <td>54.3</td>\n",
       "      <td>51.4</td>\n",
       "      <td>55.5</td>\n",
       "      <td>63.4</td>\n",
       "      <td>71.0</td>\n",
       "      <td>76.5</td>\n",
       "      <td>79.2</td>\n",
       "      <td>76.8</td>\n",
       "      <td>69.4</td>\n",
       "      <td>60.8</td>\n",
       "      <td>47.2</td>\n",
       "      <td>42.1</td>\n",
       "    </tr>\n",
       "    <tr>\n",
       "      <th>2</th>\n",
       "      <td>1881</td>\n",
       "      <td>40.1</td>\n",
       "      <td>46.6</td>\n",
       "      <td>49.1</td>\n",
       "      <td>59.1</td>\n",
       "      <td>70.8</td>\n",
       "      <td>77.8</td>\n",
       "      <td>81.1</td>\n",
       "      <td>78.8</td>\n",
       "      <td>75.5</td>\n",
       "      <td>67.2</td>\n",
       "      <td>52.6</td>\n",
       "      <td>49.6</td>\n",
       "    </tr>\n",
       "    <tr>\n",
       "      <th>3</th>\n",
       "      <td>1882</td>\n",
       "      <td>48.8</td>\n",
       "      <td>52.4</td>\n",
       "      <td>57.4</td>\n",
       "      <td>64.8</td>\n",
       "      <td>66.1</td>\n",
       "      <td>76.6</td>\n",
       "      <td>75.9</td>\n",
       "      <td>75.8</td>\n",
       "      <td>71.7</td>\n",
       "      <td>65.8</td>\n",
       "      <td>51.1</td>\n",
       "      <td>41.4</td>\n",
       "    </tr>\n",
       "    <tr>\n",
       "      <th>4</th>\n",
       "      <td>1883</td>\n",
       "      <td>43.0</td>\n",
       "      <td>50.2</td>\n",
       "      <td>50.2</td>\n",
       "      <td>61.6</td>\n",
       "      <td>67.4</td>\n",
       "      <td>76.4</td>\n",
       "      <td>80.1</td>\n",
       "      <td>76.2</td>\n",
       "      <td>71.3</td>\n",
       "      <td>66.0</td>\n",
       "      <td>53.7</td>\n",
       "      <td>48.0</td>\n",
       "    </tr>\n",
       "    <tr>\n",
       "      <th>...</th>\n",
       "      <td>...</td>\n",
       "      <td>...</td>\n",
       "      <td>...</td>\n",
       "      <td>...</td>\n",
       "      <td>...</td>\n",
       "      <td>...</td>\n",
       "      <td>...</td>\n",
       "      <td>...</td>\n",
       "      <td>...</td>\n",
       "      <td>...</td>\n",
       "      <td>...</td>\n",
       "      <td>...</td>\n",
       "      <td>...</td>\n",
       "    </tr>\n",
       "    <tr>\n",
       "      <th>137</th>\n",
       "      <td>2016</td>\n",
       "      <td>42.4</td>\n",
       "      <td>48.5</td>\n",
       "      <td>60.5</td>\n",
       "      <td>64.1</td>\n",
       "      <td>71.1</td>\n",
       "      <td>81.0</td>\n",
       "      <td>83.4</td>\n",
       "      <td>82.7</td>\n",
       "      <td>78.8</td>\n",
       "      <td>69.6</td>\n",
       "      <td>58.9</td>\n",
       "      <td>48.9</td>\n",
       "    </tr>\n",
       "    <tr>\n",
       "      <th>138</th>\n",
       "      <td>2017</td>\n",
       "      <td>52.0</td>\n",
       "      <td>56.1</td>\n",
       "      <td>57.7</td>\n",
       "      <td>67.8</td>\n",
       "      <td>71.1</td>\n",
       "      <td>76.6</td>\n",
       "      <td>81.2</td>\n",
       "      <td>79.2</td>\n",
       "      <td>73.8</td>\n",
       "      <td>65.7</td>\n",
       "      <td>56.2</td>\n",
       "      <td>46.8</td>\n",
       "    </tr>\n",
       "    <tr>\n",
       "      <th>139</th>\n",
       "      <td>2018</td>\n",
       "      <td>40.4</td>\n",
       "      <td>57.3</td>\n",
       "      <td>53.5</td>\n",
       "      <td>59.8</td>\n",
       "      <td>74.8</td>\n",
       "      <td>79.8</td>\n",
       "      <td>80.8</td>\n",
       "      <td>79.7</td>\n",
       "      <td>81.0</td>\n",
       "      <td>67.4</td>\n",
       "      <td>50.3</td>\n",
       "      <td>48.6</td>\n",
       "    </tr>\n",
       "    <tr>\n",
       "      <th>140</th>\n",
       "      <td>2019</td>\n",
       "      <td>45.9</td>\n",
       "      <td>53.8</td>\n",
       "      <td>55.4</td>\n",
       "      <td>65.3</td>\n",
       "      <td>76.4</td>\n",
       "      <td>77.7</td>\n",
       "      <td>82.2</td>\n",
       "      <td>82.5</td>\n",
       "      <td>82.4</td>\n",
       "      <td>68.4</td>\n",
       "      <td>52.5</td>\n",
       "      <td>51.2</td>\n",
       "    </tr>\n",
       "    <tr>\n",
       "      <th>141</th>\n",
       "      <td>2020</td>\n",
       "      <td>49.2</td>\n",
       "      <td>49.9</td>\n",
       "      <td>61.6</td>\n",
       "      <td>61.6</td>\n",
       "      <td>68.9</td>\n",
       "      <td>76.8</td>\n",
       "      <td>82.1</td>\n",
       "      <td>80.9</td>\n",
       "      <td>73.8</td>\n",
       "      <td>67.3</td>\n",
       "      <td>58.9</td>\n",
       "      <td>46.1</td>\n",
       "    </tr>\n",
       "  </tbody>\n",
       "</table>\n",
       "<p>142 rows × 13 columns</p>\n",
       "</div>"
      ],
      "text/plain": [
       "     Year   JAN   FEB   MAR   APR   MAY   JUN   JUL   AUG   SEP   OCT   NOV  \\\n",
       "0    1879  44.3  43.7  57.6  58.9  69.8  74.9  79.6  73.9  68.7  64.3  53.9   \n",
       "1    1880  54.3  51.4  55.5  63.4  71.0  76.5  79.2  76.8  69.4  60.8  47.2   \n",
       "2    1881  40.1  46.6  49.1  59.1  70.8  77.8  81.1  78.8  75.5  67.2  52.6   \n",
       "3    1882  48.8  52.4  57.4  64.8  66.1  76.6  75.9  75.8  71.7  65.8  51.1   \n",
       "4    1883  43.0  50.2  50.2  61.6  67.4  76.4  80.1  76.2  71.3  66.0  53.7   \n",
       "..    ...   ...   ...   ...   ...   ...   ...   ...   ...   ...   ...   ...   \n",
       "137  2016  42.4  48.5  60.5  64.1  71.1  81.0  83.4  82.7  78.8  69.6  58.9   \n",
       "138  2017  52.0  56.1  57.7  67.8  71.1  76.6  81.2  79.2  73.8  65.7  56.2   \n",
       "139  2018  40.4  57.3  53.5  59.8  74.8  79.8  80.8  79.7  81.0  67.4  50.3   \n",
       "140  2019  45.9  53.8  55.4  65.3  76.4  77.7  82.2  82.5  82.4  68.4  52.5   \n",
       "141  2020  49.2  49.9  61.6  61.6  68.9  76.8  82.1  80.9  73.8  67.3  58.9   \n",
       "\n",
       "      DEC  \n",
       "0    51.5  \n",
       "1    42.1  \n",
       "2    49.6  \n",
       "3    41.4  \n",
       "4    48.0  \n",
       "..    ...  \n",
       "137  48.9  \n",
       "138  46.8  \n",
       "139  48.6  \n",
       "140  51.2  \n",
       "141  46.1  \n",
       "\n",
       "[142 rows x 13 columns]"
      ]
     },
     "execution_count": 2,
     "metadata": {},
     "output_type": "execute_result"
    }
   ],
   "source": [
    "# read in remote data file as DataFrame using pandas\n",
    "df=pd.read_excel(\"https://o2.eas.gatech.edu/data/ATL_MonMeanTemp_1879_2020.xls\",skiprows=1)\n",
    "df"
   ]
  },
  {
   "cell_type": "code",
   "execution_count": 3,
   "id": "a2990a3d",
   "metadata": {},
   "outputs": [],
   "source": [
    "# Extract Feb temperature\n",
    "atl=df.to_numpy()\n",
    "year=atl[:,0]\n",
    "feb=atl[:,2]"
   ]
  },
  {
   "cell_type": "code",
   "execution_count": 4,
   "id": "f2f33f66",
   "metadata": {},
   "outputs": [],
   "source": [
    "# select the data range to be only within 1900 to 2020\n",
    "index = (year >= 1900) & (year <= 2020)\n",
    "year1 = year[index]\n",
    "feb1  = feb[index]"
   ]
  },
  {
   "cell_type": "code",
   "execution_count": 5,
   "id": "507707be",
   "metadata": {},
   "outputs": [
    {
     "data": {
      "image/png": "[encoded data removed]",
      "text/plain": [
       "<Figure size 432x288 with 1 Axes>"
      ]
     },
     "metadata": {
      "needs_background": "light"
     },
     "output_type": "display_data"
    }
   ],
   "source": [
    "# plot the result using matplotlib\n",
    "plt.plot(year1,feb1,'r-')\n",
    "plt.xlabel('year')\n",
    "plt.ylabel('Atlanta Feb temperature, deg F')\n",
    "plt.show()"
   ]
  },
  {
   "cell_type": "markdown",
   "id": "25e678de",
   "metadata": {},
   "source": [
    "## Project 2. Download the excel sheet containing the historical weather station data from Seattle WA from https://o2.eas.gatech.edu/data/SEA_MonMeanTemp_1894_2020.xls\n",
    "\n",
    "### This data contains missing values as -999. Avoid plotting the missing data.  Select the mean Februrary temperature from 1900 to 2020 and make a line plot. \n"
   ]
  },
  {
   "cell_type": "code",
   "execution_count": 6,
   "id": "6bb5ca15",
   "metadata": {},
   "outputs": [
    {
     "data": {
      "text/html": [
       "<div>\n",
       "<style scoped>\n",
       "    .dataframe tbody tr th:only-of-type {\n",
       "        vertical-align: middle;\n",
       "    }\n",
       "\n",
       "    .dataframe tbody tr th {\n",
       "        vertical-align: top;\n",
       "    }\n",
       "\n",
       "    .dataframe thead th {\n",
       "        text-align: right;\n",
       "    }\n",
       "</style>\n",
       "<table border=\"1\" class=\"dataframe\">\n",
       "  <thead>\n",
       "    <tr style=\"text-align: right;\">\n",
       "      <th></th>\n",
       "      <th>Year</th>\n",
       "      <th>JAN</th>\n",
       "      <th>FEB</th>\n",
       "      <th>MAR</th>\n",
       "      <th>APR</th>\n",
       "      <th>MAY</th>\n",
       "      <th>JUN</th>\n",
       "      <th>JUL</th>\n",
       "      <th>AUG</th>\n",
       "      <th>SEP</th>\n",
       "      <th>OCT</th>\n",
       "      <th>NOV</th>\n",
       "      <th>DEC</th>\n",
       "    </tr>\n",
       "  </thead>\n",
       "  <tbody>\n",
       "    <tr>\n",
       "      <th>0</th>\n",
       "      <td>1894</td>\n",
       "      <td>38.8</td>\n",
       "      <td>38.2</td>\n",
       "      <td>42.7</td>\n",
       "      <td>48.0</td>\n",
       "      <td>53.4</td>\n",
       "      <td>58.7</td>\n",
       "      <td>64.3</td>\n",
       "      <td>65.9</td>\n",
       "      <td>57.6</td>\n",
       "      <td>50.2</td>\n",
       "      <td>47.4</td>\n",
       "      <td>39.3</td>\n",
       "    </tr>\n",
       "    <tr>\n",
       "      <th>1</th>\n",
       "      <td>1895</td>\n",
       "      <td>38.7</td>\n",
       "      <td>44.7</td>\n",
       "      <td>44.1</td>\n",
       "      <td>50.1</td>\n",
       "      <td>55.2</td>\n",
       "      <td>60.9</td>\n",
       "      <td>63.6</td>\n",
       "      <td>62.0</td>\n",
       "      <td>55.8</td>\n",
       "      <td>51.7</td>\n",
       "      <td>44.2</td>\n",
       "      <td>41.9</td>\n",
       "    </tr>\n",
       "    <tr>\n",
       "      <th>2</th>\n",
       "      <td>1896</td>\n",
       "      <td>42.4</td>\n",
       "      <td>44.9</td>\n",
       "      <td>42.7</td>\n",
       "      <td>46.9</td>\n",
       "      <td>52.4</td>\n",
       "      <td>60.2</td>\n",
       "      <td>67.2</td>\n",
       "      <td>63.9</td>\n",
       "      <td>56.7</td>\n",
       "      <td>52.8</td>\n",
       "      <td>38.4</td>\n",
       "      <td>44.5</td>\n",
       "    </tr>\n",
       "    <tr>\n",
       "      <th>3</th>\n",
       "      <td>1897</td>\n",
       "      <td>40.0</td>\n",
       "      <td>42.2</td>\n",
       "      <td>40.2</td>\n",
       "      <td>52.5</td>\n",
       "      <td>58.4</td>\n",
       "      <td>60.2</td>\n",
       "      <td>62.7</td>\n",
       "      <td>67.8</td>\n",
       "      <td>56.9</td>\n",
       "      <td>51.0</td>\n",
       "      <td>43.6</td>\n",
       "      <td>42.6</td>\n",
       "    </tr>\n",
       "    <tr>\n",
       "      <th>4</th>\n",
       "      <td>1898</td>\n",
       "      <td>39.9</td>\n",
       "      <td>45.6</td>\n",
       "      <td>43.4</td>\n",
       "      <td>50.1</td>\n",
       "      <td>57.1</td>\n",
       "      <td>61.4</td>\n",
       "      <td>64.6</td>\n",
       "      <td>66.3</td>\n",
       "      <td>60.8</td>\n",
       "      <td>52.2</td>\n",
       "      <td>45.0</td>\n",
       "      <td>40.4</td>\n",
       "    </tr>\n",
       "    <tr>\n",
       "      <th>...</th>\n",
       "      <td>...</td>\n",
       "      <td>...</td>\n",
       "      <td>...</td>\n",
       "      <td>...</td>\n",
       "      <td>...</td>\n",
       "      <td>...</td>\n",
       "      <td>...</td>\n",
       "      <td>...</td>\n",
       "      <td>...</td>\n",
       "      <td>...</td>\n",
       "      <td>...</td>\n",
       "      <td>...</td>\n",
       "      <td>...</td>\n",
       "    </tr>\n",
       "    <tr>\n",
       "      <th>122</th>\n",
       "      <td>2016</td>\n",
       "      <td>43.5</td>\n",
       "      <td>47.7</td>\n",
       "      <td>49.4</td>\n",
       "      <td>56.3</td>\n",
       "      <td>59.2</td>\n",
       "      <td>63.6</td>\n",
       "      <td>67.0</td>\n",
       "      <td>68.6</td>\n",
       "      <td>61.4</td>\n",
       "      <td>55.4</td>\n",
       "      <td>51.3</td>\n",
       "      <td>38.5</td>\n",
       "    </tr>\n",
       "    <tr>\n",
       "      <th>123</th>\n",
       "      <td>2017</td>\n",
       "      <td>38.7</td>\n",
       "      <td>41.6</td>\n",
       "      <td>46.5</td>\n",
       "      <td>50.8</td>\n",
       "      <td>58.1</td>\n",
       "      <td>62.6</td>\n",
       "      <td>67.0</td>\n",
       "      <td>69.7</td>\n",
       "      <td>64.9</td>\n",
       "      <td>53.2</td>\n",
       "      <td>46.6</td>\n",
       "      <td>40.5</td>\n",
       "    </tr>\n",
       "    <tr>\n",
       "      <th>124</th>\n",
       "      <td>2018</td>\n",
       "      <td>44.9</td>\n",
       "      <td>41.4</td>\n",
       "      <td>46.2</td>\n",
       "      <td>50.6</td>\n",
       "      <td>60.8</td>\n",
       "      <td>62.0</td>\n",
       "      <td>70.0</td>\n",
       "      <td>68.5</td>\n",
       "      <td>62.3</td>\n",
       "      <td>53.4</td>\n",
       "      <td>48.2</td>\n",
       "      <td>43.5</td>\n",
       "    </tr>\n",
       "    <tr>\n",
       "      <th>125</th>\n",
       "      <td>2019</td>\n",
       "      <td>44.0</td>\n",
       "      <td>36.6</td>\n",
       "      <td>47.4</td>\n",
       "      <td>52.0</td>\n",
       "      <td>59.5</td>\n",
       "      <td>62.0</td>\n",
       "      <td>65.5</td>\n",
       "      <td>68.5</td>\n",
       "      <td>62.3</td>\n",
       "      <td>50.9</td>\n",
       "      <td>46.4</td>\n",
       "      <td>44.2</td>\n",
       "    </tr>\n",
       "    <tr>\n",
       "      <th>126</th>\n",
       "      <td>2020</td>\n",
       "      <td>44.2</td>\n",
       "      <td>43.6</td>\n",
       "      <td>44.6</td>\n",
       "      <td>51.8</td>\n",
       "      <td>58.7</td>\n",
       "      <td>61.5</td>\n",
       "      <td>65.8</td>\n",
       "      <td>67.2</td>\n",
       "      <td>65.4</td>\n",
       "      <td>54.1</td>\n",
       "      <td>46.6</td>\n",
       "      <td>44.1</td>\n",
       "    </tr>\n",
       "  </tbody>\n",
       "</table>\n",
       "<p>127 rows × 13 columns</p>\n",
       "</div>"
      ],
      "text/plain": [
       "     Year   JAN   FEB   MAR   APR   MAY   JUN   JUL   AUG   SEP   OCT   NOV  \\\n",
       "0    1894  38.8  38.2  42.7  48.0  53.4  58.7  64.3  65.9  57.6  50.2  47.4   \n",
       "1    1895  38.7  44.7  44.1  50.1  55.2  60.9  63.6  62.0  55.8  51.7  44.2   \n",
       "2    1896  42.4  44.9  42.7  46.9  52.4  60.2  67.2  63.9  56.7  52.8  38.4   \n",
       "3    1897  40.0  42.2  40.2  52.5  58.4  60.2  62.7  67.8  56.9  51.0  43.6   \n",
       "4    1898  39.9  45.6  43.4  50.1  57.1  61.4  64.6  66.3  60.8  52.2  45.0   \n",
       "..    ...   ...   ...   ...   ...   ...   ...   ...   ...   ...   ...   ...   \n",
       "122  2016  43.5  47.7  49.4  56.3  59.2  63.6  67.0  68.6  61.4  55.4  51.3   \n",
       "123  2017  38.7  41.6  46.5  50.8  58.1  62.6  67.0  69.7  64.9  53.2  46.6   \n",
       "124  2018  44.9  41.4  46.2  50.6  60.8  62.0  70.0  68.5  62.3  53.4  48.2   \n",
       "125  2019  44.0  36.6  47.4  52.0  59.5  62.0  65.5  68.5  62.3  50.9  46.4   \n",
       "126  2020  44.2  43.6  44.6  51.8  58.7  61.5  65.8  67.2  65.4  54.1  46.6   \n",
       "\n",
       "      DEC  \n",
       "0    39.3  \n",
       "1    41.9  \n",
       "2    44.5  \n",
       "3    42.6  \n",
       "4    40.4  \n",
       "..    ...  \n",
       "122  38.5  \n",
       "123  40.5  \n",
       "124  43.5  \n",
       "125  44.2  \n",
       "126  44.1  \n",
       "\n",
       "[127 rows x 13 columns]"
      ]
     },
     "execution_count": 6,
     "metadata": {},
     "output_type": "execute_result"
    }
   ],
   "source": [
    "# read in data file as DataFrame using pandas\n",
    "df2=pd.read_excel(\"https://o2.eas.gatech.edu/data/SEA_MonMeanTemp_1894_2020.xls\",skiprows=1)\n",
    "df2"
   ]
  },
  {
   "cell_type": "code",
   "execution_count": 7,
   "id": "a5731703",
   "metadata": {},
   "outputs": [],
   "source": [
    "# Extract Feb temperature\n",
    "sea=df2.to_numpy()\n",
    "year_sea=sea[:,0]\n",
    "feb_sea=sea[:,2]"
   ]
  },
  {
   "cell_type": "code",
   "execution_count": 8,
   "id": "534d80ff",
   "metadata": {},
   "outputs": [],
   "source": [
    "# select the data range to be only within 1900 to 2020\n",
    "index = (year_sea >= 1900) & (year_sea <= 2020)\n",
    "year2 = year_sea[index]\n",
    "feb2  = feb_sea[index]"
   ]
  },
  {
   "cell_type": "code",
   "execution_count": 9,
   "id": "84c9a7f1",
   "metadata": {},
   "outputs": [
    {
     "data": {
      "image/png": "[encoded data removed]",
      "text/plain": [
       "<Figure size 432x288 with 1 Axes>"
      ]
     },
     "metadata": {
      "needs_background": "light"
     },
     "output_type": "display_data"
    }
   ],
   "source": [
    "# plot the result using matplotlib\n",
    "plt.plot(year2,feb2,'b-')\n",
    "plt.xlabel('year')\n",
    "plt.ylabel('Seattle Feb temperature, deg F')\n",
    "plt.show()\n",
    "# Oh no! the plot is ruined because there is a missing data (-999)"
   ]
  },
  {
   "cell_type": "code",
   "execution_count": 10,
   "id": "217ec55b",
   "metadata": {},
   "outputs": [
    {
     "data": {
      "image/png": "[encoded data removed]",
      "text/plain": [
       "<Figure size 432x288 with 1 Axes>"
      ]
     },
     "metadata": {
      "needs_background": "light"
     },
     "output_type": "display_data"
    }
   ],
   "source": [
    "# first replace the missing data (-999) with np.nan\n",
    "missing_index= (feb2 == -999) # first identify the missing data\n",
    "feb2[missing_index]=np.nan\n",
    "\n",
    "# then plot the result using matplotlib\n",
    "plt.plot(year2,feb2,'b-')\n",
    "plt.xlabel('year')\n",
    "plt.ylabel('temperature, deg F')\n",
    "plt.show()\n",
    "# now we can see the stuff! "
   ]
  },
  {
   "cell_type": "markdown",
   "id": "e6d0a15c",
   "metadata": {},
   "source": [
    "## Project 3. Plot all 12 months of Atlanta data as a contour plot\n",
    "### use x-axis for year (1900-2020), y-axis for month (1-12), and color-filled contour for temperature. \n",
    "### Do the same for Seattle. You will have to remove the missing data\n",
    "### For different choices of colormaps, please look at https://matplotlib.org/stable/tutorials/colors/colormaps.html"
   ]
  },
  {
   "cell_type": "code",
   "execution_count": 11,
   "id": "79b8bd06",
   "metadata": {},
   "outputs": [],
   "source": [
    "# read in data file as DataFrame using pandas\n",
    "df=pd.read_excel(\"https://o2.eas.gatech.edu/data/ATL_MonMeanTemp_1879_2020.xls\",skiprows=1)\n",
    "\n",
    "# Extract temperature for all 12 months\n",
    "atl=df.to_numpy()\n",
    "year=atl[:,0]   # first column\n",
    "temp=atl[:,1:]  # 2nd column and all the rest\n",
    "\n",
    "# select the years from 1900 to 2020\n",
    "index = (year >= 1900) & (year <= 2020)\n",
    "year1 = year[index]\n",
    "temp1 = temp[index,:]"
   ]
  },
  {
   "cell_type": "code",
   "execution_count": 12,
   "id": "e49ee5b4",
   "metadata": {},
   "outputs": [
    {
     "data": {
      "image/png": "[encoded data removed]",
      "text/plain": [
       "<Figure size 432x288 with 2 Axes>"
      ]
     },
     "metadata": {
      "needs_background": "light"
     },
     "output_type": "display_data"
    }
   ],
   "source": [
    "## contourf from matplotlib\n",
    "mon=np.arange(1,13,1)\n",
    "plt.contourf(year1,mon,temp1.T) # Try pcolor too\n",
    "plt.xlabel('year')\n",
    "plt.ylabel('month')\n",
    "plt.colorbar()\n",
    "plt.show()"
   ]
  },
  {
   "cell_type": "code",
   "execution_count": 13,
   "id": "ecfd5c85",
   "metadata": {},
   "outputs": [
    {
     "data": {
      "image/png": "[encoded data removed]",
      "text/plain": [
       "<Figure size 432x288 with 2 Axes>"
      ]
     },
     "metadata": {
      "needs_background": "light"
     },
     "output_type": "display_data"
    }
   ],
   "source": [
    "## contourf from matplotlib, with a different color scale\n",
    "mon=np.arange(1,13,1)\n",
    "plt.contourf(year1,mon,temp1.T,cmap='inferno') # check out the cmap option\n",
    "plt.xlabel('year')\n",
    "plt.ylabel('month')\n",
    "plt.colorbar()\n",
    "plt.show()"
   ]
  },
  {
   "cell_type": "code",
   "execution_count": 14,
   "id": "5876ed4e",
   "metadata": {},
   "outputs": [],
   "source": [
    "# Let's try seattle now\n",
    "df2=pd.read_excel(\"https://o2.eas.gatech.edu/data/SEA_MonMeanTemp_1894_2020.xls\",skiprows=1)\n",
    "\n",
    "# Extract temperature for all 12 months\n",
    "sea=df2.to_numpy()\n",
    "year=sea[:,0]   # first column\n",
    "temp=sea[:,1:]  # 2nd column and all the rest\n",
    "\n",
    "# select the years from 1900 to 2020\n",
    "index = (year >= 1900) & (year <= 2020)\n",
    "year2 = year[index]\n",
    "temp2 = temp[index,:]"
   ]
  },
  {
   "cell_type": "code",
   "execution_count": 15,
   "id": "3aa800da",
   "metadata": {},
   "outputs": [
    {
     "data": {
      "image/png": "[encoded data removed]",
      "text/plain": [
       "<Figure size 432x288 with 2 Axes>"
      ]
     },
     "metadata": {
      "needs_background": "light"
     },
     "output_type": "display_data"
    }
   ],
   "source": [
    "## contourf from matplotlib\n",
    "mon=np.arange(1,13,1)\n",
    "plt.contourf(year2,mon,temp2.T)\n",
    "plt.xlabel('year')\n",
    "plt.ylabel('month')\n",
    "plt.colorbar()\n",
    "plt.show()\n",
    "# Oh no! I fornot to replace the missing data (-999) again! "
   ]
  },
  {
   "cell_type": "code",
   "execution_count": 16,
   "id": "875e8860",
   "metadata": {},
   "outputs": [
    {
     "data": {
      "image/png": "[encoded data removed]",
      "text/plain": [
       "<Figure size 432x288 with 2 Axes>"
      ]
     },
     "metadata": {
      "needs_background": "light"
     },
     "output_type": "display_data"
    }
   ],
   "source": [
    "## replace missing data with np.nan\n",
    "temp2[temp2 == -999] = np.nan  # directly insert the conditional statement as index\n",
    "\n",
    "## contourf from matplotlib\n",
    "mon=np.arange(1,13,1)\n",
    "plt.contourf(year2,mon,temp2.T)\n",
    "plt.xlabel('year')\n",
    "plt.ylabel('month')\n",
    "plt.colorbar()\n",
    "plt.show()\n",
    "# Yes! now I can see the data"
   ]
  },
  {
   "cell_type": "markdown",
   "id": "0a32b265",
   "metadata": {},
   "source": [
    "## Project 4. Display the monthly statistics using boxplot\n",
    "\n",
    "### Extract mean March data from Atlanta data. Select 1950 to 2020. Generate a box plot"
   ]
  },
  {
   "cell_type": "code",
   "execution_count": 17,
   "id": "3ab6851e",
   "metadata": {},
   "outputs": [],
   "source": [
    "# read in data file as DataFrame using pandas\n",
    "df=pd.read_excel(\"https://o2.eas.gatech.edu/data/ATL_MonMeanTemp_1879_2020.xls\",skiprows=1)\n",
    "\n",
    "# Extract temperature for March months (4th column)\n",
    "atl=df.to_numpy()\n",
    "year=atl[:,0]   # first column\n",
    "mar=atl[:,3]   # 4th column\n",
    "\n",
    "# select the years from 1950 to 2020\n",
    "index = (year >= 1950) & (year <= 2020)\n",
    "mar1 = mar[index]"
   ]
  },
  {
   "cell_type": "code",
   "execution_count": 18,
   "id": "a35a4a84",
   "metadata": {},
   "outputs": [
    {
     "data": {
      "image/png": "[encoded data removed]",
      "text/plain": [
       "<Figure size 432x288 with 1 Axes>"
      ]
     },
     "metadata": {
      "needs_background": "light"
     },
     "output_type": "display_data"
    }
   ],
   "source": [
    "# generate a boxplot\n",
    "plt.boxplot(mar1)\n",
    "plt.ylabel('temperature, deg F')\n",
    "plt.show()"
   ]
  },
  {
   "cell_type": "markdown",
   "id": "d0c2c897",
   "metadata": {},
   "source": [
    "### Extract all 12 months from the Atlanta data. Select 1950 to 2020. Generate a box plot for all 12 months and plot them side by side"
   ]
  },
  {
   "cell_type": "code",
   "execution_count": 19,
   "id": "cabc5d71",
   "metadata": {},
   "outputs": [],
   "source": [
    "# Extract temperature for all 12 months\n",
    "year=atl[:,0]    # first column\n",
    "temp=atl[:,1:]   # 2nd column and on\n",
    "\n",
    "# select the years from 1950 to 2020\n",
    "index = (year >= 1950) & (year <= 2020)\n",
    "temp1 = temp[index,:]"
   ]
  },
  {
   "cell_type": "code",
   "execution_count": 20,
   "id": "64624d0b",
   "metadata": {},
   "outputs": [
    {
     "data": {
      "image/png": "[encoded data removed]",
      "text/plain": [
       "<Figure size 432x288 with 1 Axes>"
      ]
     },
     "metadata": {
      "needs_background": "light"
     },
     "output_type": "display_data"
    }
   ],
   "source": [
    "# plot boxplot all together\n",
    "plt.boxplot(temp1)\n",
    "plt.xlabel('months')\n",
    "plt.ylabel('temperature')\n",
    "plt.show()"
   ]
  },
  {
   "cell_type": "markdown",
   "id": "e899d758",
   "metadata": {},
   "source": [
    "## Project 5. Display histogram\n",
    "### Display the histogram of mean July temperature of Seattle from 1900 to 2020, and overlay Gaussian function\n",
    "Gaussian ($f(x)$, defined below) should be plotted scaled by $N \\Delta x$.  \n",
    "This is because the area of histogram is equal to sample size times bin width. \n",
    "\n",
    "$ f(x) = \\frac{1}{\\sqrt{2 \\pi}\\sigma} exp \\left\\{ -\\frac{1}{2} \\left( \\frac{x-\\mu}{\\sigma} \\right)^2\\right\\}$"
   ]
  },
  {
   "cell_type": "code",
   "execution_count": 21,
   "id": "99f7acb1",
   "metadata": {},
   "outputs": [],
   "source": [
    "# read in data file as DataFrame using pandas\n",
    "df=pd.read_excel(\"https://o2.eas.gatech.edu/data/SEA_MonMeanTemp_1894_2020.xls\",skiprows=1)\n",
    "\n",
    "# Extract temperature for July months (8th column)\n",
    "sea=df.to_numpy()\n",
    "year=sea[:,0]   # first column\n",
    "jul=sea[:,7]   # 13th column\n",
    "\n",
    "# select the years from 1900 to 2020\n",
    "index = (year >= 1900) & (year <= 2020)\n",
    "jul1 = jul[index]\n",
    "\n",
    "# in this case, remove the missing data \n",
    "jul1[jul1 == -999] = np.nan"
   ]
  },
  {
   "cell_type": "code",
   "execution_count": 22,
   "id": "b62371cc",
   "metadata": {},
   "outputs": [
    {
     "data": {
      "image/png": "[encoded data removed]",
      "text/plain": [
       "<Figure size 432x288 with 1 Axes>"
      ]
     },
     "metadata": {
      "needs_background": "light"
     },
     "output_type": "display_data"
    }
   ],
   "source": [
    "# define bins\n",
    "dx=1\n",
    "bins=np.arange(np.nanmin(jul1)-2,np.nanmax(jul1)+2,dx)\n",
    "plt.hist(jul1,bins)\n",
    "plt.xlabel('temperature deg F')\n",
    "plt.ylabel('data count, frequency')\n",
    "plt.show()"
   ]
  },
  {
   "cell_type": "code",
   "execution_count": 23,
   "id": "dcca7657",
   "metadata": {},
   "outputs": [],
   "source": [
    "# calculate sample size\n",
    "N=np.size(jul1)\n",
    "\n",
    "# calculate mean and stdev\n",
    "mu=np.nanmean(jul1)\n",
    "sig=np.nanstd(jul1)\n",
    "\n",
    "# calculate Gaussian overlay\n",
    "x=np.arange(np.nanmin(jul1)-2,np.nanmax(jul1)+2,.1)\n",
    "f=N*dx/(np.sqrt(2*np.pi)*sig)*np.exp(-.5*((x-mu)/sig)**2)"
   ]
  },
  {
   "cell_type": "code",
   "execution_count": 24,
   "id": "e3c2a6c3",
   "metadata": {},
   "outputs": [
    {
     "data": {
      "image/png": "[encoded data removed]",
      "text/plain": [
       "<Figure size 432x288 with 1 Axes>"
      ]
     },
     "metadata": {
      "needs_background": "light"
     },
     "output_type": "display_data"
    }
   ],
   "source": [
    "# replot the histogram\n",
    "plt.hist(jul1,bins)\n",
    "plt.plot(x,f,'r-') # plot the Gaussian\n",
    "plt.xlabel('temperature, deg F')\n",
    "plt.ylabel('data count, frequency')\n",
    "plt.show()"
   ]
  },
  {
   "cell_type": "markdown",
   "id": "a2454647",
   "metadata": {},
   "source": [
    "## Project 6. Create a scatter plot comparing January temperature of Atlanta and Seattle between 1900 and 2020"
   ]
  },
  {
   "cell_type": "code",
   "execution_count": 25,
   "id": "8817095f",
   "metadata": {},
   "outputs": [],
   "source": [
    "# read in data file as DataFrame using pandas\n",
    "df=pd.read_excel(\"https://o2.eas.gatech.edu/data/ATL_MonMeanTemp_1879_2020.xls\",skiprows=1)\n",
    "\n",
    "# Extract temperature for Jan\n",
    "atl=df.to_numpy()\n",
    "year=atl[:,0]   # first column\n",
    "jan=atl[:,1]   \n",
    "\n",
    "# select the years from 1900 to 2020\n",
    "index = (year >= 1900) & (year <= 2020)\n",
    "janatl = jan[index]"
   ]
  },
  {
   "cell_type": "code",
   "execution_count": 26,
   "id": "48928265",
   "metadata": {},
   "outputs": [],
   "source": [
    "# read in data file as DataFrame using pandas\n",
    "df=pd.read_excel(\"https://o2.eas.gatech.edu/data/SEA_MonMeanTemp_1894_2020.xls\",skiprows=1)\n",
    "\n",
    "# Extract temperature \n",
    "sea=df.to_numpy()\n",
    "year=sea[:,0]   # first column\n",
    "jan=sea[:,1]   \n",
    "\n",
    "# select the years from 1900 to 2020\n",
    "index = (year >= 1900) & (year <= 2020)\n",
    "jansea= jan[index]\n",
    "\n",
    "jansea[ jansea == -999 ] = np.nan"
   ]
  },
  {
   "cell_type": "code",
   "execution_count": 27,
   "id": "c773d2c4",
   "metadata": {},
   "outputs": [
    {
     "data": {
      "image/png": "[encoded data removed]",
      "text/plain": [
       "<Figure size 432x288 with 1 Axes>"
      ]
     },
     "metadata": {
      "needs_background": "light"
     },
     "output_type": "display_data"
    }
   ],
   "source": [
    "plt.plot(janatl,jansea,'o')\n",
    "plt.xlabel('Atlanta mean Jan temperature, deg F')\n",
    "plt.ylabel('Seattle mean Jan temperature, deg F')\n",
    "plt.show()"
   ]
  },
  {
   "cell_type": "markdown",
   "id": "8db67131",
   "metadata": {},
   "source": [
    "## Project 7. Save your result in a file\n",
    "### case 1. create a dataframe from numpy array, selecting only June, July, August months and save it as a csv file"
   ]
  },
  {
   "cell_type": "code",
   "execution_count": 28,
   "id": "69c39fb5",
   "metadata": {},
   "outputs": [],
   "source": [
    "# Take the Seattle data file from the previous project\n",
    "# JJA will be 7th through 9th columns\n",
    "# including all years\n",
    "df3=pd.DataFrame(sea[:,[0,6,7,8]],columns=['Year','Jun','Jul','Aug'])\n",
    "df3.to_csv('Seattle_JJA_1894_2020.csv') # this writes the data into a CSV file"
   ]
  },
  {
   "cell_type": "code",
   "execution_count": 29,
   "id": "1a883db0",
   "metadata": {},
   "outputs": [
    {
     "data": {
      "text/html": [
       "<div>\n",
       "<style scoped>\n",
       "    .dataframe tbody tr th:only-of-type {\n",
       "        vertical-align: middle;\n",
       "    }\n",
       "\n",
       "    .dataframe tbody tr th {\n",
       "        vertical-align: top;\n",
       "    }\n",
       "\n",
       "    .dataframe thead th {\n",
       "        text-align: right;\n",
       "    }\n",
       "</style>\n",
       "<table border=\"1\" class=\"dataframe\">\n",
       "  <thead>\n",
       "    <tr style=\"text-align: right;\">\n",
       "      <th></th>\n",
       "      <th>Year</th>\n",
       "      <th>Jun</th>\n",
       "      <th>Jul</th>\n",
       "      <th>Aug</th>\n",
       "    </tr>\n",
       "  </thead>\n",
       "  <tbody>\n",
       "    <tr>\n",
       "      <th>0</th>\n",
       "      <td>1894.0</td>\n",
       "      <td>58.7</td>\n",
       "      <td>64.3</td>\n",
       "      <td>65.9</td>\n",
       "    </tr>\n",
       "    <tr>\n",
       "      <th>1</th>\n",
       "      <td>1895.0</td>\n",
       "      <td>60.9</td>\n",
       "      <td>63.6</td>\n",
       "      <td>62.0</td>\n",
       "    </tr>\n",
       "    <tr>\n",
       "      <th>2</th>\n",
       "      <td>1896.0</td>\n",
       "      <td>60.2</td>\n",
       "      <td>67.2</td>\n",
       "      <td>63.9</td>\n",
       "    </tr>\n",
       "    <tr>\n",
       "      <th>3</th>\n",
       "      <td>1897.0</td>\n",
       "      <td>60.2</td>\n",
       "      <td>62.7</td>\n",
       "      <td>67.8</td>\n",
       "    </tr>\n",
       "    <tr>\n",
       "      <th>4</th>\n",
       "      <td>1898.0</td>\n",
       "      <td>61.4</td>\n",
       "      <td>64.6</td>\n",
       "      <td>66.3</td>\n",
       "    </tr>\n",
       "    <tr>\n",
       "      <th>...</th>\n",
       "      <td>...</td>\n",
       "      <td>...</td>\n",
       "      <td>...</td>\n",
       "      <td>...</td>\n",
       "    </tr>\n",
       "    <tr>\n",
       "      <th>122</th>\n",
       "      <td>2016.0</td>\n",
       "      <td>63.6</td>\n",
       "      <td>67.0</td>\n",
       "      <td>68.6</td>\n",
       "    </tr>\n",
       "    <tr>\n",
       "      <th>123</th>\n",
       "      <td>2017.0</td>\n",
       "      <td>62.6</td>\n",
       "      <td>67.0</td>\n",
       "      <td>69.7</td>\n",
       "    </tr>\n",
       "    <tr>\n",
       "      <th>124</th>\n",
       "      <td>2018.0</td>\n",
       "      <td>62.0</td>\n",
       "      <td>70.0</td>\n",
       "      <td>68.5</td>\n",
       "    </tr>\n",
       "    <tr>\n",
       "      <th>125</th>\n",
       "      <td>2019.0</td>\n",
       "      <td>62.0</td>\n",
       "      <td>65.5</td>\n",
       "      <td>68.5</td>\n",
       "    </tr>\n",
       "    <tr>\n",
       "      <th>126</th>\n",
       "      <td>2020.0</td>\n",
       "      <td>61.5</td>\n",
       "      <td>65.8</td>\n",
       "      <td>67.2</td>\n",
       "    </tr>\n",
       "  </tbody>\n",
       "</table>\n",
       "<p>127 rows × 4 columns</p>\n",
       "</div>"
      ],
      "text/plain": [
       "       Year   Jun   Jul   Aug\n",
       "0    1894.0  58.7  64.3  65.9\n",
       "1    1895.0  60.9  63.6  62.0\n",
       "2    1896.0  60.2  67.2  63.9\n",
       "3    1897.0  60.2  62.7  67.8\n",
       "4    1898.0  61.4  64.6  66.3\n",
       "..      ...   ...   ...   ...\n",
       "122  2016.0  63.6  67.0  68.6\n",
       "123  2017.0  62.6  67.0  69.7\n",
       "124  2018.0  62.0  70.0  68.5\n",
       "125  2019.0  62.0  65.5  68.5\n",
       "126  2020.0  61.5  65.8  67.2\n",
       "\n",
       "[127 rows x 4 columns]"
      ]
     },
     "execution_count": 29,
     "metadata": {},
     "output_type": "execute_result"
    }
   ],
   "source": [
    "# have a look at the DataFrame\n",
    "df3"
   ]
  },
  {
   "cell_type": "markdown",
   "id": "54ec13e6",
   "metadata": {},
   "source": [
    "### case 2. save a single numpy array as .npy file\n",
    "single array can be saved in a .npy file. "
   ]
  },
  {
   "cell_type": "code",
   "execution_count": 30,
   "id": "6a5c6298",
   "metadata": {},
   "outputs": [
    {
     "name": "stdout",
     "output_type": "stream",
     "text": [
      "the difference is  [0. 0. 0.]\n"
     ]
    }
   ],
   "source": [
    "np.save('Seattle_JJA.npy',sea[:,6:9]) # save the JJA data \n",
    "\n",
    "# check if it was saved correctly\n",
    "jjadata=np.load('Seattle_JJA.npy')   # load it as jjadata as numpy array\n",
    "diffdata=jjadata-sea[:,6:9]   # check to make sure they are the same\n",
    "print('the difference is ',str(np.sum(diffdata,0)))"
   ]
  },
  {
   "cell_type": "markdown",
   "id": "467d3769",
   "metadata": {},
   "source": [
    "### case 3. save multiple numpy arrays as .npz file\n",
    "save the year and the temperature separately as different array into a single file"
   ]
  },
  {
   "cell_type": "code",
   "execution_count": 31,
   "id": "c062bd2f",
   "metadata": {},
   "outputs": [],
   "source": [
    "year=sea[:,0]    # extract year \n",
    "temp=sea[:,1:13] # extract temperature from all months\n",
    "np.savez('Seattle_MomMeanTemp.npz',year=year,temp=temp) # save the two arrays as a single file\n",
    "\n",
    "# to read the data, use np.load\n",
    "tempdata=np.load('Seattle_MomMeanTemp.npz') # returns a dictonary-like object\n",
    "year1=tempdata['year']          # extract year\n",
    "temp1=tempdata['temp']          # extract temperature"
   ]
  },
  {
   "cell_type": "code",
   "execution_count": null,
   "id": "c4e8b667",
   "metadata": {},
   "outputs": [],
   "source": []
  },
  {
   "cell_type": "code",
   "execution_count": null,
   "id": "fff052c7",
   "metadata": {},
   "outputs": [],
   "source": []
  }
 ],
 "metadata": {
  "kernelspec": {
   "display_name": "Python 3 (ipykernel)",
   "language": "python",
   "name": "python3"
  },
  "language_info": {
   "codemirror_mode": {
    "name": "ipython",
    "version": 3
   },
   "file_extension": ".py",
   "mimetype": "text/x-python",
   "name": "python",
   "nbconvert_exporter": "python",
   "pygments_lexer": "ipython3",
   "version": "3.9.7"
  }
 },
 "nbformat": 4,
 "nbformat_minor": 5
}
